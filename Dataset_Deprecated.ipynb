{
 "cells": [
  {
   "cell_type": "markdown",
   "metadata": {},
   "source": [
    "This notebook has 3 purposes:\n",
    "* Understanding the structure of the data\n",
    "* Constructing the knowledge graph (KG)\n",
    "* Producing the positive and negative samples for training"
   ]
  },
  {
   "cell_type": "markdown",
   "metadata": {},
   "source": [
    "# Data Structure"
   ]
  },
  {
   "cell_type": "code",
   "execution_count": 2,
   "metadata": {},
   "outputs": [],
   "source": [
    "import pandas as pd\n",
    "import os"
   ]
  },
  {
   "cell_type": "code",
   "execution_count": 3,
   "metadata": {},
   "outputs": [],
   "source": [
    "path = os.path.dirname(os.getcwd())"
   ]
  },
  {
   "cell_type": "markdown",
   "metadata": {},
   "source": [
    "Nodes"
   ]
  },
  {
   "cell_type": "code",
   "execution_count": 3,
   "metadata": {},
   "outputs": [
    {
     "name": "stdout",
     "output_type": "stream",
     "text": [
      "(129375, 5)\n"
     ]
    },
    {
     "data": {
      "text/html": [
       "<div>\n",
       "<style scoped>\n",
       "    .dataframe tbody tr th:only-of-type {\n",
       "        vertical-align: middle;\n",
       "    }\n",
       "\n",
       "    .dataframe tbody tr th {\n",
       "        vertical-align: top;\n",
       "    }\n",
       "\n",
       "    .dataframe thead th {\n",
       "        text-align: right;\n",
       "    }\n",
       "</style>\n",
       "<table border=\"1\" class=\"dataframe\">\n",
       "  <thead>\n",
       "    <tr style=\"text-align: right;\">\n",
       "      <th></th>\n",
       "      <th>node_index</th>\n",
       "      <th>node_id</th>\n",
       "      <th>node_type</th>\n",
       "      <th>node_name</th>\n",
       "      <th>node_source</th>\n",
       "    </tr>\n",
       "  </thead>\n",
       "  <tbody>\n",
       "    <tr>\n",
       "      <th>0</th>\n",
       "      <td>0</td>\n",
       "      <td>9796</td>\n",
       "      <td>gene_protein</td>\n",
       "      <td>PHYHIP</td>\n",
       "      <td>NCBI</td>\n",
       "    </tr>\n",
       "    <tr>\n",
       "      <th>1</th>\n",
       "      <td>1</td>\n",
       "      <td>7918</td>\n",
       "      <td>gene_protein</td>\n",
       "      <td>GPANK1</td>\n",
       "      <td>NCBI</td>\n",
       "    </tr>\n",
       "    <tr>\n",
       "      <th>2</th>\n",
       "      <td>2</td>\n",
       "      <td>8233</td>\n",
       "      <td>gene_protein</td>\n",
       "      <td>ZRSR2</td>\n",
       "      <td>NCBI</td>\n",
       "    </tr>\n",
       "    <tr>\n",
       "      <th>3</th>\n",
       "      <td>3</td>\n",
       "      <td>4899</td>\n",
       "      <td>gene_protein</td>\n",
       "      <td>NRF1</td>\n",
       "      <td>NCBI</td>\n",
       "    </tr>\n",
       "    <tr>\n",
       "      <th>4</th>\n",
       "      <td>4</td>\n",
       "      <td>5297</td>\n",
       "      <td>gene_protein</td>\n",
       "      <td>PI4KA</td>\n",
       "      <td>NCBI</td>\n",
       "    </tr>\n",
       "  </tbody>\n",
       "</table>\n",
       "</div>"
      ],
      "text/plain": [
       "   node_index node_id     node_type node_name node_source\n",
       "0           0    9796  gene_protein    PHYHIP        NCBI\n",
       "1           1    7918  gene_protein    GPANK1        NCBI\n",
       "2           2    8233  gene_protein     ZRSR2        NCBI\n",
       "3           3    4899  gene_protein      NRF1        NCBI\n",
       "4           4    5297  gene_protein     PI4KA        NCBI"
      ]
     },
     "execution_count": 3,
     "metadata": {},
     "output_type": "execute_result"
    }
   ],
   "source": [
    "nodes = pd.read_csv(path + '/data/nodes.csv')\n",
    "nodes['node_type']= nodes['node_type'].apply(lambda x: x.replace(\"/\",\"_\"))\n",
    "print(nodes.shape)\n",
    "nodes.head()"
   ]
  },
  {
   "cell_type": "markdown",
   "metadata": {},
   "source": [
    "Edges"
   ]
  },
  {
   "cell_type": "code",
   "execution_count": 4,
   "metadata": {},
   "outputs": [
    {
     "name": "stdout",
     "output_type": "stream",
     "text": [
      "(8100498, 4)\n"
     ]
    },
    {
     "data": {
      "text/html": [
       "<div>\n",
       "<style scoped>\n",
       "    .dataframe tbody tr th:only-of-type {\n",
       "        vertical-align: middle;\n",
       "    }\n",
       "\n",
       "    .dataframe tbody tr th {\n",
       "        vertical-align: top;\n",
       "    }\n",
       "\n",
       "    .dataframe thead th {\n",
       "        text-align: right;\n",
       "    }\n",
       "</style>\n",
       "<table border=\"1\" class=\"dataframe\">\n",
       "  <thead>\n",
       "    <tr style=\"text-align: right;\">\n",
       "      <th></th>\n",
       "      <th>relation</th>\n",
       "      <th>display_relation</th>\n",
       "      <th>x_index</th>\n",
       "      <th>y_index</th>\n",
       "    </tr>\n",
       "  </thead>\n",
       "  <tbody>\n",
       "    <tr>\n",
       "      <th>0</th>\n",
       "      <td>protein_protein</td>\n",
       "      <td>ppi</td>\n",
       "      <td>0</td>\n",
       "      <td>8889</td>\n",
       "    </tr>\n",
       "    <tr>\n",
       "      <th>1</th>\n",
       "      <td>protein_protein</td>\n",
       "      <td>ppi</td>\n",
       "      <td>1</td>\n",
       "      <td>2798</td>\n",
       "    </tr>\n",
       "    <tr>\n",
       "      <th>2</th>\n",
       "      <td>protein_protein</td>\n",
       "      <td>ppi</td>\n",
       "      <td>2</td>\n",
       "      <td>5646</td>\n",
       "    </tr>\n",
       "    <tr>\n",
       "      <th>3</th>\n",
       "      <td>protein_protein</td>\n",
       "      <td>ppi</td>\n",
       "      <td>3</td>\n",
       "      <td>11592</td>\n",
       "    </tr>\n",
       "    <tr>\n",
       "      <th>4</th>\n",
       "      <td>protein_protein</td>\n",
       "      <td>ppi</td>\n",
       "      <td>4</td>\n",
       "      <td>2122</td>\n",
       "    </tr>\n",
       "  </tbody>\n",
       "</table>\n",
       "</div>"
      ],
      "text/plain": [
       "          relation display_relation  x_index  y_index\n",
       "0  protein_protein              ppi        0     8889\n",
       "1  protein_protein              ppi        1     2798\n",
       "2  protein_protein              ppi        2     5646\n",
       "3  protein_protein              ppi        3    11592\n",
       "4  protein_protein              ppi        4     2122"
      ]
     },
     "execution_count": 4,
     "metadata": {},
     "output_type": "execute_result"
    }
   ],
   "source": [
    "edges = pd.read_csv(path + '/data/edges.csv')\n",
    "print(edges.shape)\n",
    "edges.head()"
   ]
  },
  {
   "cell_type": "markdown",
   "metadata": {},
   "source": [
    "Knowledge Graph"
   ]
  },
  {
   "cell_type": "code",
   "execution_count": 5,
   "metadata": {},
   "outputs": [
    {
     "name": "stdout",
     "output_type": "stream",
     "text": [
      "(4296359, 7)\n"
     ]
    },
    {
     "data": {
      "text/html": [
       "<div>\n",
       "<style scoped>\n",
       "    .dataframe tbody tr th:only-of-type {\n",
       "        vertical-align: middle;\n",
       "    }\n",
       "\n",
       "    .dataframe tbody tr th {\n",
       "        vertical-align: top;\n",
       "    }\n",
       "\n",
       "    .dataframe thead th {\n",
       "        text-align: right;\n",
       "    }\n",
       "</style>\n",
       "<table border=\"1\" class=\"dataframe\">\n",
       "  <thead>\n",
       "    <tr style=\"text-align: right;\">\n",
       "      <th></th>\n",
       "      <th>relation</th>\n",
       "      <th>x_index</th>\n",
       "      <th>x_type</th>\n",
       "      <th>x_name</th>\n",
       "      <th>y_index</th>\n",
       "      <th>y_type</th>\n",
       "      <th>y_name</th>\n",
       "    </tr>\n",
       "  </thead>\n",
       "  <tbody>\n",
       "    <tr>\n",
       "      <th>0</th>\n",
       "      <td>protein_protein</td>\n",
       "      <td>0</td>\n",
       "      <td>gene_protein</td>\n",
       "      <td>PHYHIP</td>\n",
       "      <td>8889.0</td>\n",
       "      <td>gene_protein</td>\n",
       "      <td>KIF15</td>\n",
       "    </tr>\n",
       "    <tr>\n",
       "      <th>1</th>\n",
       "      <td>protein_protein</td>\n",
       "      <td>1</td>\n",
       "      <td>gene_protein</td>\n",
       "      <td>GPANK1</td>\n",
       "      <td>2798.0</td>\n",
       "      <td>gene_protein</td>\n",
       "      <td>PNMA1</td>\n",
       "    </tr>\n",
       "    <tr>\n",
       "      <th>2</th>\n",
       "      <td>protein_protein</td>\n",
       "      <td>2</td>\n",
       "      <td>gene_protein</td>\n",
       "      <td>ZRSR2</td>\n",
       "      <td>5646.0</td>\n",
       "      <td>gene_protein</td>\n",
       "      <td>TTC33</td>\n",
       "    </tr>\n",
       "    <tr>\n",
       "      <th>3</th>\n",
       "      <td>protein_protein</td>\n",
       "      <td>3</td>\n",
       "      <td>gene_protein</td>\n",
       "      <td>NRF1</td>\n",
       "      <td>11592.0</td>\n",
       "      <td>gene_protein</td>\n",
       "      <td>MAN1B1</td>\n",
       "    </tr>\n",
       "    <tr>\n",
       "      <th>4</th>\n",
       "      <td>protein_protein</td>\n",
       "      <td>4</td>\n",
       "      <td>gene_protein</td>\n",
       "      <td>PI4KA</td>\n",
       "      <td>2122.0</td>\n",
       "      <td>gene_protein</td>\n",
       "      <td>RGS20</td>\n",
       "    </tr>\n",
       "  </tbody>\n",
       "</table>\n",
       "</div>"
      ],
      "text/plain": [
       "          relation  x_index        x_type  x_name  y_index        y_type  \\\n",
       "0  protein_protein        0  gene_protein  PHYHIP   8889.0  gene_protein   \n",
       "1  protein_protein        1  gene_protein  GPANK1   2798.0  gene_protein   \n",
       "2  protein_protein        2  gene_protein   ZRSR2   5646.0  gene_protein   \n",
       "3  protein_protein        3  gene_protein    NRF1  11592.0  gene_protein   \n",
       "4  protein_protein        4  gene_protein   PI4KA   2122.0  gene_protein   \n",
       "\n",
       "   y_name  \n",
       "0   KIF15  \n",
       "1   PNMA1  \n",
       "2   TTC33  \n",
       "3  MAN1B1  \n",
       "4   RGS20  "
      ]
     },
     "execution_count": 5,
     "metadata": {},
     "output_type": "execute_result"
    }
   ],
   "source": [
    "kg = pd.read_csv(r'/opt/scratch/labs/wuc/Drug-Repurposing/data/totalkg.csv')\n",
    "kg['x_type']= kg['x_type'].apply(lambda x: x.replace(\"/\",\"_\"))\n",
    "kg['y_type']= kg['y_type'].apply(lambda x: x.replace(\"/\",\"_\"))\n",
    "kg['relation']= kg['relation'].apply(lambda x: x.replace(\"-\",\"_\"))\n",
    "kg['relation']= kg['relation'].apply(lambda x: x.replace(\" \",\"_\"))\n",
    "print(kg.shape)\n",
    "kg.head()"
   ]
  },
  {
   "cell_type": "code",
   "execution_count": 20,
   "metadata": {},
   "outputs": [
    {
     "data": {
      "text/plain": [
       "19137"
      ]
     },
     "execution_count": 20,
     "metadata": {},
     "output_type": "execute_result"
    }
   ],
   "source": [
    "len(kg[kg['x_type'] == 'gene_protein']['x_name'].unique())"
   ]
  },
  {
   "cell_type": "markdown",
   "metadata": {},
   "source": [
    "# KG Construction"
   ]
  },
  {
   "cell_type": "code",
   "execution_count": 6,
   "metadata": {},
   "outputs": [],
   "source": [
    "from torch_geometric.data import HeteroData\n",
    "from torch_geometric.loader import DataLoader\n",
    "import torch_geometric.transforms as T\n",
    "import torch\n",
    "from copy import deepcopy"
   ]
  },
  {
   "cell_type": "markdown",
   "metadata": {},
   "source": [
    "Create HeteroData object"
   ]
  },
  {
   "cell_type": "code",
   "execution_count": 7,
   "metadata": {},
   "outputs": [
    {
     "data": {
      "text/plain": [
       "HeteroData()"
      ]
     },
     "metadata": {},
     "output_type": "display_data"
    }
   ],
   "source": [
    "data = HeteroData()\n",
    "\n",
    "display(data)"
   ]
  },
  {
   "cell_type": "markdown",
   "metadata": {},
   "source": [
    "Proving that both x and y indices span the entire range"
   ]
  },
  {
   "cell_type": "code",
   "execution_count": 8,
   "metadata": {},
   "outputs": [
    {
     "name": "stdout",
     "output_type": "stream",
     "text": [
      "True\n"
     ]
    }
   ],
   "source": [
    "for i in range(max(kg['x_index'])+1):\n",
    "    if i not in kg['x_index'] or i not in kg['y_index']:\n",
    "        display(i)\n",
    "\n",
    "print(max(kg['x_index']) == max(kg['y_index']))"
   ]
  },
  {
   "cell_type": "markdown",
   "metadata": {},
   "source": [
    "Get the amount of each type of node"
   ]
  },
  {
   "cell_type": "code",
   "execution_count": 9,
   "metadata": {},
   "outputs": [
    {
     "data": {
      "text/plain": [
       "{'gene_protein': 27671,\n",
       " 'drug': 7957,\n",
       " 'effect_phenotype': 15311,\n",
       " 'disease': 17080,\n",
       " 'biological_process': 28642,\n",
       " 'molecular_function': 11169,\n",
       " 'cellular_component': 4176,\n",
       " 'exposure': 818,\n",
       " 'pathway': 2516,\n",
       " 'anatomy': 14035}"
      ]
     },
     "metadata": {},
     "output_type": "display_data"
    }
   ],
   "source": [
    "nodes = deepcopy(kg)\n",
    "nodes.drop_duplicates(subset=['x_index'], keep='first', inplace=True)\n",
    "node_dict = {}\n",
    "\n",
    "for node_type in nodes['x_type'].unique():\n",
    "    split = nodes.loc[kg['x_type'] == node_type]\n",
    "    node_dict[node_type] = len(split['x_index'].unique())\n",
    "\n",
    "display(node_dict)"
   ]
  },
  {
   "cell_type": "markdown",
   "metadata": {},
   "source": [
    "Randomize a feature tensor for each type of node and add to data object"
   ]
  },
  {
   "cell_type": "code",
   "execution_count": 10,
   "metadata": {},
   "outputs": [
    {
     "data": {
      "text/plain": [
       "HeteroData(\n",
       "  gene_protein={ x=[27671, 16] },\n",
       "  drug={ x=[7957, 16] },\n",
       "  effect_phenotype={ x=[15311, 16] },\n",
       "  disease={ x=[17080, 16] },\n",
       "  biological_process={ x=[28642, 16] },\n",
       "  molecular_function={ x=[11169, 16] },\n",
       "  cellular_component={ x=[4176, 16] },\n",
       "  exposure={ x=[818, 16] },\n",
       "  pathway={ x=[2516, 16] },\n",
       "  anatomy={ x=[14035, 16] }\n",
       ")"
      ]
     },
     "metadata": {},
     "output_type": "display_data"
    }
   ],
   "source": [
    "for node_type in node_dict.keys():\n",
    "    data[node_type].x = torch.empty(node_dict[node_type], 16, requires_grad=True)\n",
    "    torch.nn.init.xavier_uniform_(data[node_type].x)\n",
    "\n",
    "display(data)"
   ]
  },
  {
   "cell_type": "markdown",
   "metadata": {},
   "source": [
    "Create edge dict to keep track of within-group indices"
   ]
  },
  {
   "cell_type": "code",
   "execution_count": 11,
   "metadata": {},
   "outputs": [],
   "source": [
    "temp = deepcopy(kg)\n",
    "temp.drop_duplicates(subset=['x_index'], keep='first', inplace=True)\n",
    "temp['group_idx'] = temp.groupby('x_type').cumcount()\n",
    "idx_to_group = dict(zip(temp['x_index'], temp['group_idx']))"
   ]
  },
  {
   "cell_type": "markdown",
   "metadata": {},
   "source": [
    "Get the edge connections and add to data object"
   ]
  },
  {
   "cell_type": "code",
   "execution_count": null,
   "metadata": {},
   "outputs": [],
   "source": [
    "edges = deepcopy(kg)\n",
    "\n",
    "# Apply edge dictionary\n",
    "edges['group_x'] = edges['x_index'].map(idx_to_group)\n",
    "edges['group_y'] = edges['y_index'].map(idx_to_group)\n",
    "\n",
    "# Group by relation\n",
    "groups = edges.groupby('relation')\n",
    "\n",
    "for relation, group in groups:\n",
    "    \n",
    "    # Get the main group\n",
    "    subgroups = group.groupby('x_type')\n",
    "    group_name = list(subgroups.groups)[0]\n",
    "    group = subgroups.get_group(group_name)\n",
    "    \n",
    "    # Get edge indices and create edge list\n",
    "    x_indices = torch.tensor(group['group_x'].values, dtype=torch.long)\n",
    "    y_indices = torch.tensor(group['group_y'].values, dtype=torch.long)\n",
    "    edge_list = torch.stack([x_indices, y_indices], dim=0)\n",
    "        \n",
    "    # Store in data\n",
    "    data[group['x_type'].values[0], relation, group['y_type'].values[0]].edge_index = edge_list\n",
    "\n",
    "display(data)\n",
    "\n",
    "pretrain_indices = kg[['x_index','relation','y_index']]\n",
    "name_to_num = dict(zip(pretrain_indices['relation'], pd.factorize(pretrain_indices['relation'])[0]))\n",
    "pretrain_indices['relation'] = pretrain_indices['relation'].map(name_to_num)\n",
    "\n",
    "finetune_indices = kg[['x_index','relation','y_index']]\n",
    "finetune_indices = finetune_indices.loc[(finetune_indices['relation'] == 'contraindication') | \n",
    "                                        (finetune_indices['relation'] == 'indication') | \n",
    "                                        (finetune_indices['relation'] == 'off_label_use')]\n",
    "finetune_indices['relation'] = finetune_indices['relation'].map(name_to_num)\n",
    "\n",
    "display(pretrain_indices.shape)\n",
    "display(finetune_indices.shape)"
   ]
  },
  {
   "cell_type": "markdown",
   "metadata": {},
   "source": [
    "Finally, we use PyG's validation function to see if our dataset is valid"
   ]
  },
  {
   "cell_type": "code",
   "execution_count": 13,
   "metadata": {},
   "outputs": [
    {
     "data": {
      "text/plain": [
       "True"
      ]
     },
     "execution_count": 13,
     "metadata": {},
     "output_type": "execute_result"
    }
   ],
   "source": [
    "data.validate()"
   ]
  },
  {
   "cell_type": "markdown",
   "metadata": {},
   "source": [
    "# Training Data"
   ]
  },
  {
   "cell_type": "markdown",
   "metadata": {},
   "source": [
    "We organize the data into two main datasets, one with all edges and their relationships and the other with just drugs and diseases. In our model, we will be using global reference indices rather than local reference"
   ]
  },
  {
   "cell_type": "code",
   "execution_count": 65,
   "metadata": {},
   "outputs": [
    {
     "name": "stderr",
     "output_type": "stream",
     "text": [
      "/tmp/ipykernel_1916159/2681801082.py:3: SettingWithCopyWarning: \n",
      "A value is trying to be set on a copy of a slice from a DataFrame.\n",
      "Try using .loc[row_indexer,col_indexer] = value instead\n",
      "\n",
      "See the caveats in the documentation: https://pandas.pydata.org/pandas-docs/stable/user_guide/indexing.html#returning-a-view-versus-a-copy\n",
      "  raw_pretrain_indices['relation'] = raw_pretrain_indices['relation'].map(name_to_num)\n"
     ]
    }
   ],
   "source": [
    "# Get indices and process relation\n",
    "raw_pretrain_indices = kg[['x_index','x_type','relation','y_index']]\n",
    "name_to_num = dict(zip(raw_pretrain_indices['relation'], pd.factorize(raw_pretrain_indices['relation'])[0]))\n",
    "raw_pretrain_indices['relation'] = raw_pretrain_indices['relation'].map(name_to_num)\n",
    "\n",
    "# Group indices by relation\n",
    "groups = raw_pretrain_indices.groupby('relation')\n",
    "pretrain_indices = pd.DataFrame(columns=['x_index','relation','y_index'])\n",
    "\n",
    "for relation, group in groups:\n",
    "    \n",
    "    # Get the main group\n",
    "    subgroups = group.groupby('x_type')\n",
    "    group_name = list(subgroups.groups)[0]\n",
    "    group = subgroups.get_group(group_name)\n",
    "    \n",
    "    # Add only the main group\n",
    "    pretrain_indices = pd.concat([pretrain_indices,group[['x_index','relation','y_index']]])\n",
    "\n",
    "# Get indices and process relation\n",
    "raw_finetune_indices = kg[['x_index','x_type','relation','y_index']]\n",
    "raw_finetune_indices = raw_finetune_indices.loc[(raw_finetune_indices['relation'] == 'contraindication') | \n",
    "                                                (raw_finetune_indices['relation'] == 'indication') | \n",
    "                                                (raw_finetune_indices['relation'] == 'off_label_use')]\n",
    "raw_finetune_indices['relation'] = raw_finetune_indices['relation'].map(name_to_num)\n",
    "\n",
    "# Group indices by relation\n",
    "groups = raw_finetune_indices.groupby('relation')\n",
    "finetune_indices = pd.DataFrame(columns=['x_index','relation','y_index'])\n",
    "\n",
    "for relation, group in groups:\n",
    "    \n",
    "    # Get the main group\n",
    "    subgroups = group.groupby('x_type')\n",
    "    group_name = list(subgroups.groups)[0]\n",
    "    group = subgroups.get_group(group_name)\n",
    "    \n",
    "    # Add only the main group\n",
    "    finetune_indices = pd.concat([finetune_indices,group[['x_index','relation','y_index']]])\n",
    "\n",
    "# Make sure indices are a compatible datatype\n",
    "pretrain_indices = pretrain_indices.astype({'x_index': 'int32', 'relation': 'int32', 'y_index': 'int32', 'local_x': 'int32'})\n",
    "finetune_indices = finetune_indices.astype({'x_index': 'int32', 'relation': 'int32', 'y_index': 'int32', 'local_x': 'int32'})"
   ]
  },
  {
   "cell_type": "markdown",
   "metadata": {},
   "source": [
    "Next we divide these edges into dataloaders"
   ]
  },
  {
   "cell_type": "code",
   "execution_count": 67,
   "metadata": {},
   "outputs": [],
   "source": [
    "pdata = torch.tensor(pretrain_indices.values,dtype=torch.long)\n",
    "fdata = torch.tensor(finetune_indices.values,dtype=torch.long)\n",
    "\n",
    "psplit = torch.utils.data.random_split(pdata, [0.8,0.1,0.1])\n",
    "fsplit = torch.utils.data.random_split(fdata, [0.8,0.1,0.1])\n",
    "\n",
    "ptrain_loader = DataLoader(psplit[0], batch_size=128, shuffle=True)\n",
    "pval_loader = DataLoader(psplit[1], batch_size=128, shuffle=True)\n",
    "ptest_loader = DataLoader(psplit[2], batch_size=128, shuffle=True)\n",
    "\n",
    "ftrain_loader = DataLoader(fsplit[0], batch_size=128, shuffle=True)\n",
    "fval_loader = DataLoader(fsplit[1], batch_size=128, shuffle=True)\n",
    "ftest_loader = DataLoader(fsplit[2], batch_size=128, shuffle=True)"
   ]
  },
  {
   "cell_type": "markdown",
   "metadata": {},
   "source": [
    "We must also make sure that the data object is undirected for proper message passing"
   ]
  },
  {
   "cell_type": "code",
   "execution_count": 68,
   "metadata": {},
   "outputs": [],
   "source": [
    "data = T.ToUndirected()(data)"
   ]
  },
  {
   "cell_type": "markdown",
   "metadata": {},
   "source": [
    "This should be all the data preparation that is necessary for simple pretraining and fine tuning (I hope), a .py file will be created for the simple creation of these dataloaders"
   ]
  }
 ],
 "metadata": {
  "kernelspec": {
   "display_name": ".venv",
   "language": "python",
   "name": "python3"
  },
  "language_info": {
   "codemirror_mode": {
    "name": "ipython",
    "version": 3
   },
   "file_extension": ".py",
   "mimetype": "text/x-python",
   "name": "python",
   "nbconvert_exporter": "python",
   "pygments_lexer": "ipython3",
   "version": "3.8.10"
  }
 },
 "nbformat": 4,
 "nbformat_minor": 2
}
