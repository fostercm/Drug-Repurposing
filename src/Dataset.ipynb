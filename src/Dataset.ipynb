{
 "cells": [
  {
   "cell_type": "markdown",
   "metadata": {},
   "source": [
    "This notebook has 3 purposes:\n",
    "* Understanding the structure of the data\n",
    "* Constructing the knowledge graph (KG)\n",
    "* Producing the positive and negative samples for training"
   ]
  },
  {
   "cell_type": "markdown",
   "metadata": {},
   "source": [
    "# Data Structure"
   ]
  },
  {
   "cell_type": "code",
   "execution_count": 1,
   "metadata": {},
   "outputs": [],
   "source": [
    "import pandas as pd\n",
    "import os"
   ]
  },
  {
   "cell_type": "code",
   "execution_count": 2,
   "metadata": {},
   "outputs": [],
   "source": [
    "path = os.path.dirname(os.getcwd())"
   ]
  },
  {
   "cell_type": "markdown",
   "metadata": {},
   "source": [
    "Nodes"
   ]
  },
  {
   "cell_type": "code",
   "execution_count": 3,
   "metadata": {},
   "outputs": [
    {
     "name": "stdout",
     "output_type": "stream",
     "text": [
      "(129375, 5)\n"
     ]
    },
    {
     "data": {
      "text/html": [
       "<div>\n",
       "<style scoped>\n",
       "    .dataframe tbody tr th:only-of-type {\n",
       "        vertical-align: middle;\n",
       "    }\n",
       "\n",
       "    .dataframe tbody tr th {\n",
       "        vertical-align: top;\n",
       "    }\n",
       "\n",
       "    .dataframe thead th {\n",
       "        text-align: right;\n",
       "    }\n",
       "</style>\n",
       "<table border=\"1\" class=\"dataframe\">\n",
       "  <thead>\n",
       "    <tr style=\"text-align: right;\">\n",
       "      <th></th>\n",
       "      <th>node_index</th>\n",
       "      <th>node_id</th>\n",
       "      <th>node_type</th>\n",
       "      <th>node_name</th>\n",
       "      <th>node_source</th>\n",
       "    </tr>\n",
       "  </thead>\n",
       "  <tbody>\n",
       "    <tr>\n",
       "      <th>0</th>\n",
       "      <td>0</td>\n",
       "      <td>9796</td>\n",
       "      <td>gene_protein</td>\n",
       "      <td>PHYHIP</td>\n",
       "      <td>NCBI</td>\n",
       "    </tr>\n",
       "    <tr>\n",
       "      <th>1</th>\n",
       "      <td>1</td>\n",
       "      <td>7918</td>\n",
       "      <td>gene_protein</td>\n",
       "      <td>GPANK1</td>\n",
       "      <td>NCBI</td>\n",
       "    </tr>\n",
       "    <tr>\n",
       "      <th>2</th>\n",
       "      <td>2</td>\n",
       "      <td>8233</td>\n",
       "      <td>gene_protein</td>\n",
       "      <td>ZRSR2</td>\n",
       "      <td>NCBI</td>\n",
       "    </tr>\n",
       "    <tr>\n",
       "      <th>3</th>\n",
       "      <td>3</td>\n",
       "      <td>4899</td>\n",
       "      <td>gene_protein</td>\n",
       "      <td>NRF1</td>\n",
       "      <td>NCBI</td>\n",
       "    </tr>\n",
       "    <tr>\n",
       "      <th>4</th>\n",
       "      <td>4</td>\n",
       "      <td>5297</td>\n",
       "      <td>gene_protein</td>\n",
       "      <td>PI4KA</td>\n",
       "      <td>NCBI</td>\n",
       "    </tr>\n",
       "  </tbody>\n",
       "</table>\n",
       "</div>"
      ],
      "text/plain": [
       "   node_index node_id     node_type node_name node_source\n",
       "0           0    9796  gene_protein    PHYHIP        NCBI\n",
       "1           1    7918  gene_protein    GPANK1        NCBI\n",
       "2           2    8233  gene_protein     ZRSR2        NCBI\n",
       "3           3    4899  gene_protein      NRF1        NCBI\n",
       "4           4    5297  gene_protein     PI4KA        NCBI"
      ]
     },
     "execution_count": 3,
     "metadata": {},
     "output_type": "execute_result"
    }
   ],
   "source": [
    "nodes = pd.read_csv(path + r'\\data\\nodes.csv')\n",
    "nodes['node_type']= nodes['node_type'].apply(lambda x: x.replace(\"/\",\"_\"))\n",
    "print(nodes.shape)\n",
    "nodes.head()"
   ]
  },
  {
   "cell_type": "markdown",
   "metadata": {},
   "source": [
    "Edges"
   ]
  },
  {
   "cell_type": "code",
   "execution_count": 4,
   "metadata": {},
   "outputs": [
    {
     "name": "stdout",
     "output_type": "stream",
     "text": [
      "(8100498, 4)\n"
     ]
    },
    {
     "data": {
      "text/html": [
       "<div>\n",
       "<style scoped>\n",
       "    .dataframe tbody tr th:only-of-type {\n",
       "        vertical-align: middle;\n",
       "    }\n",
       "\n",
       "    .dataframe tbody tr th {\n",
       "        vertical-align: top;\n",
       "    }\n",
       "\n",
       "    .dataframe thead th {\n",
       "        text-align: right;\n",
       "    }\n",
       "</style>\n",
       "<table border=\"1\" class=\"dataframe\">\n",
       "  <thead>\n",
       "    <tr style=\"text-align: right;\">\n",
       "      <th></th>\n",
       "      <th>relation</th>\n",
       "      <th>display_relation</th>\n",
       "      <th>x_index</th>\n",
       "      <th>y_index</th>\n",
       "    </tr>\n",
       "  </thead>\n",
       "  <tbody>\n",
       "    <tr>\n",
       "      <th>0</th>\n",
       "      <td>protein_protein</td>\n",
       "      <td>ppi</td>\n",
       "      <td>0</td>\n",
       "      <td>8889</td>\n",
       "    </tr>\n",
       "    <tr>\n",
       "      <th>1</th>\n",
       "      <td>protein_protein</td>\n",
       "      <td>ppi</td>\n",
       "      <td>1</td>\n",
       "      <td>2798</td>\n",
       "    </tr>\n",
       "    <tr>\n",
       "      <th>2</th>\n",
       "      <td>protein_protein</td>\n",
       "      <td>ppi</td>\n",
       "      <td>2</td>\n",
       "      <td>5646</td>\n",
       "    </tr>\n",
       "    <tr>\n",
       "      <th>3</th>\n",
       "      <td>protein_protein</td>\n",
       "      <td>ppi</td>\n",
       "      <td>3</td>\n",
       "      <td>11592</td>\n",
       "    </tr>\n",
       "    <tr>\n",
       "      <th>4</th>\n",
       "      <td>protein_protein</td>\n",
       "      <td>ppi</td>\n",
       "      <td>4</td>\n",
       "      <td>2122</td>\n",
       "    </tr>\n",
       "  </tbody>\n",
       "</table>\n",
       "</div>"
      ],
      "text/plain": [
       "          relation display_relation  x_index  y_index\n",
       "0  protein_protein              ppi        0     8889\n",
       "1  protein_protein              ppi        1     2798\n",
       "2  protein_protein              ppi        2     5646\n",
       "3  protein_protein              ppi        3    11592\n",
       "4  protein_protein              ppi        4     2122"
      ]
     },
     "execution_count": 4,
     "metadata": {},
     "output_type": "execute_result"
    }
   ],
   "source": [
    "edges = pd.read_csv(path + r'\\data\\edges.csv')\n",
    "print(edges.shape)\n",
    "edges.head()"
   ]
  },
  {
   "cell_type": "markdown",
   "metadata": {},
   "source": [
    "Knowledge Graph"
   ]
  },
  {
   "cell_type": "code",
   "execution_count": 5,
   "metadata": {},
   "outputs": [
    {
     "name": "stderr",
     "output_type": "stream",
     "text": [
      "C:\\Users\\colef\\AppData\\Local\\Temp\\ipykernel_12248\\2808526252.py:1: DtypeWarning: Columns (3,8) have mixed types. Specify dtype option on import or set low_memory=False.\n",
      "  kg = pd.read_csv(path + r'\\data\\kg.csv')\n"
     ]
    },
    {
     "name": "stdout",
     "output_type": "stream",
     "text": [
      "(8100498, 12)\n"
     ]
    },
    {
     "data": {
      "text/html": [
       "<div>\n",
       "<style scoped>\n",
       "    .dataframe tbody tr th:only-of-type {\n",
       "        vertical-align: middle;\n",
       "    }\n",
       "\n",
       "    .dataframe tbody tr th {\n",
       "        vertical-align: top;\n",
       "    }\n",
       "\n",
       "    .dataframe thead th {\n",
       "        text-align: right;\n",
       "    }\n",
       "</style>\n",
       "<table border=\"1\" class=\"dataframe\">\n",
       "  <thead>\n",
       "    <tr style=\"text-align: right;\">\n",
       "      <th></th>\n",
       "      <th>relation</th>\n",
       "      <th>display_relation</th>\n",
       "      <th>x_index</th>\n",
       "      <th>x_id</th>\n",
       "      <th>x_type</th>\n",
       "      <th>x_name</th>\n",
       "      <th>x_source</th>\n",
       "      <th>y_index</th>\n",
       "      <th>y_id</th>\n",
       "      <th>y_type</th>\n",
       "      <th>y_name</th>\n",
       "      <th>y_source</th>\n",
       "    </tr>\n",
       "  </thead>\n",
       "  <tbody>\n",
       "    <tr>\n",
       "      <th>0</th>\n",
       "      <td>protein_protein</td>\n",
       "      <td>ppi</td>\n",
       "      <td>0</td>\n",
       "      <td>9796</td>\n",
       "      <td>gene_protein</td>\n",
       "      <td>PHYHIP</td>\n",
       "      <td>NCBI</td>\n",
       "      <td>8889</td>\n",
       "      <td>56992</td>\n",
       "      <td>gene_protein</td>\n",
       "      <td>KIF15</td>\n",
       "      <td>NCBI</td>\n",
       "    </tr>\n",
       "    <tr>\n",
       "      <th>1</th>\n",
       "      <td>protein_protein</td>\n",
       "      <td>ppi</td>\n",
       "      <td>1</td>\n",
       "      <td>7918</td>\n",
       "      <td>gene_protein</td>\n",
       "      <td>GPANK1</td>\n",
       "      <td>NCBI</td>\n",
       "      <td>2798</td>\n",
       "      <td>9240</td>\n",
       "      <td>gene_protein</td>\n",
       "      <td>PNMA1</td>\n",
       "      <td>NCBI</td>\n",
       "    </tr>\n",
       "    <tr>\n",
       "      <th>2</th>\n",
       "      <td>protein_protein</td>\n",
       "      <td>ppi</td>\n",
       "      <td>2</td>\n",
       "      <td>8233</td>\n",
       "      <td>gene_protein</td>\n",
       "      <td>ZRSR2</td>\n",
       "      <td>NCBI</td>\n",
       "      <td>5646</td>\n",
       "      <td>23548</td>\n",
       "      <td>gene_protein</td>\n",
       "      <td>TTC33</td>\n",
       "      <td>NCBI</td>\n",
       "    </tr>\n",
       "    <tr>\n",
       "      <th>3</th>\n",
       "      <td>protein_protein</td>\n",
       "      <td>ppi</td>\n",
       "      <td>3</td>\n",
       "      <td>4899</td>\n",
       "      <td>gene_protein</td>\n",
       "      <td>NRF1</td>\n",
       "      <td>NCBI</td>\n",
       "      <td>11592</td>\n",
       "      <td>11253</td>\n",
       "      <td>gene_protein</td>\n",
       "      <td>MAN1B1</td>\n",
       "      <td>NCBI</td>\n",
       "    </tr>\n",
       "    <tr>\n",
       "      <th>4</th>\n",
       "      <td>protein_protein</td>\n",
       "      <td>ppi</td>\n",
       "      <td>4</td>\n",
       "      <td>5297</td>\n",
       "      <td>gene_protein</td>\n",
       "      <td>PI4KA</td>\n",
       "      <td>NCBI</td>\n",
       "      <td>2122</td>\n",
       "      <td>8601</td>\n",
       "      <td>gene_protein</td>\n",
       "      <td>RGS20</td>\n",
       "      <td>NCBI</td>\n",
       "    </tr>\n",
       "  </tbody>\n",
       "</table>\n",
       "</div>"
      ],
      "text/plain": [
       "          relation display_relation  x_index  x_id        x_type  x_name  \\\n",
       "0  protein_protein              ppi        0  9796  gene_protein  PHYHIP   \n",
       "1  protein_protein              ppi        1  7918  gene_protein  GPANK1   \n",
       "2  protein_protein              ppi        2  8233  gene_protein   ZRSR2   \n",
       "3  protein_protein              ppi        3  4899  gene_protein    NRF1   \n",
       "4  protein_protein              ppi        4  5297  gene_protein   PI4KA   \n",
       "\n",
       "  x_source  y_index   y_id        y_type  y_name y_source  \n",
       "0     NCBI     8889  56992  gene_protein   KIF15     NCBI  \n",
       "1     NCBI     2798   9240  gene_protein   PNMA1     NCBI  \n",
       "2     NCBI     5646  23548  gene_protein   TTC33     NCBI  \n",
       "3     NCBI    11592  11253  gene_protein  MAN1B1     NCBI  \n",
       "4     NCBI     2122   8601  gene_protein   RGS20     NCBI  "
      ]
     },
     "execution_count": 5,
     "metadata": {},
     "output_type": "execute_result"
    }
   ],
   "source": [
    "kg = pd.read_csv(path + r'\\data\\kg.csv')\n",
    "kg['x_type']= kg['x_type'].apply(lambda x: x.replace(\"/\",\"_\"))\n",
    "kg['y_type']= kg['y_type'].apply(lambda x: x.replace(\"/\",\"_\"))\n",
    "kg['relation']= kg['relation'].apply(lambda x: x.replace(\"-\",\"_\"))\n",
    "kg['relation']= kg['relation'].apply(lambda x: x.replace(\" \",\"_\"))\n",
    "print(kg.shape)\n",
    "kg.head()"
   ]
  },
  {
   "cell_type": "markdown",
   "metadata": {},
   "source": [
    "# KG Construction"
   ]
  },
  {
   "cell_type": "code",
   "execution_count": 7,
   "metadata": {},
   "outputs": [],
   "source": [
    "from torch_geometric.data import HeteroData\n",
    "from torch_geometric.loader import DataLoader\n",
    "import torch_geometric.transforms as T\n",
    "import torch\n",
    "from copy import deepcopy"
   ]
  },
  {
   "cell_type": "markdown",
   "metadata": {},
   "source": [
    "Create HeteroData object"
   ]
  },
  {
   "cell_type": "code",
   "execution_count": 8,
   "metadata": {},
   "outputs": [
    {
     "data": {
      "text/plain": [
       "HeteroData()"
      ]
     },
     "metadata": {},
     "output_type": "display_data"
    }
   ],
   "source": [
    "data = HeteroData()\n",
    "\n",
    "display(data)"
   ]
  },
  {
   "cell_type": "markdown",
   "metadata": {},
   "source": [
    "Proving that both x and y indices span the entire range"
   ]
  },
  {
   "cell_type": "code",
   "execution_count": 9,
   "metadata": {},
   "outputs": [
    {
     "name": "stdout",
     "output_type": "stream",
     "text": [
      "True\n"
     ]
    }
   ],
   "source": [
    "for i in range(max(kg['x_index'])+1):\n",
    "    if i not in kg['x_index'] or i not in kg['y_index']:\n",
    "        display(i)\n",
    "\n",
    "print(max(kg['x_index']) == max(kg['y_index']))"
   ]
  },
  {
   "cell_type": "markdown",
   "metadata": {},
   "source": [
    "Get the amount of each type of node"
   ]
  },
  {
   "cell_type": "code",
   "execution_count": 10,
   "metadata": {},
   "outputs": [
    {
     "data": {
      "text/plain": [
       "{'gene_protein': 27671,\n",
       " 'drug': 7957,\n",
       " 'effect_phenotype': 15311,\n",
       " 'disease': 17080,\n",
       " 'biological_process': 28642,\n",
       " 'molecular_function': 11169,\n",
       " 'cellular_component': 4176,\n",
       " 'exposure': 818,\n",
       " 'pathway': 2516,\n",
       " 'anatomy': 14035}"
      ]
     },
     "metadata": {},
     "output_type": "display_data"
    }
   ],
   "source": [
    "nodes = deepcopy(kg)\n",
    "nodes.drop_duplicates(subset=['x_index'], keep='first', inplace=True)\n",
    "node_dict = {}\n",
    "\n",
    "for node_type in nodes['x_type'].unique():\n",
    "    split = nodes.loc[kg['x_type'] == node_type]\n",
    "    node_dict[node_type] = len(split['x_index'].unique())\n",
    "\n",
    "display(node_dict)"
   ]
  },
  {
   "cell_type": "markdown",
   "metadata": {},
   "source": [
    "Randomize a feature tensor for each type of node and add to data object"
   ]
  },
  {
   "cell_type": "code",
   "execution_count": 11,
   "metadata": {},
   "outputs": [
    {
     "data": {
      "text/plain": [
       "HeteroData(\n",
       "  gene_protein={ x=[27671, 16] },\n",
       "  drug={ x=[7957, 16] },\n",
       "  effect_phenotype={ x=[15311, 16] },\n",
       "  disease={ x=[17080, 16] },\n",
       "  biological_process={ x=[28642, 16] },\n",
       "  molecular_function={ x=[11169, 16] },\n",
       "  cellular_component={ x=[4176, 16] },\n",
       "  exposure={ x=[818, 16] },\n",
       "  pathway={ x=[2516, 16] },\n",
       "  anatomy={ x=[14035, 16] }\n",
       ")"
      ]
     },
     "metadata": {},
     "output_type": "display_data"
    }
   ],
   "source": [
    "for node_type in node_dict.keys():\n",
    "    data[node_type].x = torch.randn(node_dict[node_type], 16)\n",
    "\n",
    "display(data)"
   ]
  },
  {
   "cell_type": "markdown",
   "metadata": {},
   "source": [
    "Create edge dict to keep track of within-group indices"
   ]
  },
  {
   "cell_type": "code",
   "execution_count": 12,
   "metadata": {},
   "outputs": [],
   "source": [
    "temp = deepcopy(kg)\n",
    "temp.drop_duplicates(subset=['x_index'], keep='first', inplace=True)\n",
    "temp['group_idx'] = temp.groupby('x_type').cumcount()\n",
    "idx_to_group = dict(zip(temp['x_index'], temp['group_idx']))"
   ]
  },
  {
   "cell_type": "markdown",
   "metadata": {},
   "source": [
    "Get the edge connections and add to data object"
   ]
  },
  {
   "cell_type": "code",
   "execution_count": 13,
   "metadata": {},
   "outputs": [
    {
     "data": {
      "text/plain": [
       "HeteroData(\n",
       "  gene_protein={ x=[27671, 16] },\n",
       "  drug={ x=[7957, 16] },\n",
       "  effect_phenotype={ x=[15311, 16] },\n",
       "  disease={ x=[17080, 16] },\n",
       "  biological_process={ x=[28642, 16] },\n",
       "  molecular_function={ x=[11169, 16] },\n",
       "  cellular_component={ x=[4176, 16] },\n",
       "  exposure={ x=[818, 16] },\n",
       "  pathway={ x=[2516, 16] },\n",
       "  anatomy={ x=[14035, 16] },\n",
       "  (anatomy, anatomy_anatomy, anatomy)={ edge_index=[2, 28064] },\n",
       "  (gene_protein, anatomy_protein_absent, anatomy)={ edge_index=[2, 39774] },\n",
       "  (gene_protein, anatomy_protein_present, anatomy)={ edge_index=[2, 3036406] },\n",
       "  (biological_process, bioprocess_bioprocess, biological_process)={ edge_index=[2, 105772] },\n",
       "  (gene_protein, bioprocess_protein, biological_process)={ edge_index=[2, 289610] },\n",
       "  (cellular_component, cellcomp_cellcomp, cellular_component)={ edge_index=[2, 9690] },\n",
       "  (gene_protein, cellcomp_protein, cellular_component)={ edge_index=[2, 166804] },\n",
       "  (drug, contraindication, disease)={ edge_index=[2, 61350] },\n",
       "  (disease, disease_disease, disease)={ edge_index=[2, 64388] },\n",
       "  (disease, disease_phenotype_negative, effect_phenotype)={ edge_index=[2, 2386] },\n",
       "  (disease, disease_phenotype_positive, effect_phenotype)={ edge_index=[2, 300634] },\n",
       "  (gene_protein, disease_protein, disease)={ edge_index=[2, 160822] },\n",
       "  (drug, drug_drug, drug)={ edge_index=[2, 2672628] },\n",
       "  (drug, drug_effect, effect_phenotype)={ edge_index=[2, 129568] },\n",
       "  (drug, drug_protein, gene_protein)={ edge_index=[2, 51306] },\n",
       "  (exposure, exposure_bioprocess, biological_process)={ edge_index=[2, 3250] },\n",
       "  (exposure, exposure_cellcomp, cellular_component)={ edge_index=[2, 20] },\n",
       "  (exposure, exposure_disease, disease)={ edge_index=[2, 4608] },\n",
       "  (exposure, exposure_exposure, exposure)={ edge_index=[2, 4140] },\n",
       "  (exposure, exposure_molfunc, molecular_function)={ edge_index=[2, 90] },\n",
       "  (exposure, exposure_protein, gene_protein)={ edge_index=[2, 2424] },\n",
       "  (drug, indication, disease)={ edge_index=[2, 18776] },\n",
       "  (molecular_function, molfunc_molfunc, molecular_function)={ edge_index=[2, 27148] },\n",
       "  (gene_protein, molfunc_protein, molecular_function)={ edge_index=[2, 139060] },\n",
       "  (drug, off_label_use, disease)={ edge_index=[2, 5136] },\n",
       "  (pathway, pathway_pathway, pathway)={ edge_index=[2, 5070] },\n",
       "  (gene_protein, pathway_protein, pathway)={ edge_index=[2, 85292] },\n",
       "  (effect_phenotype, phenotype_phenotype, effect_phenotype)={ edge_index=[2, 37472] },\n",
       "  (gene_protein, phenotype_protein, effect_phenotype)={ edge_index=[2, 6660] },\n",
       "  (gene_protein, protein_protein, gene_protein)={ edge_index=[2, 642150] },\n",
       "  (anatomy, rev_anatomy_protein_absent, gene_protein)={ edge_index=[2, 39774] },\n",
       "  (anatomy, rev_anatomy_protein_present, gene_protein)={ edge_index=[2, 3036406] },\n",
       "  (biological_process, rev_bioprocess_protein, gene_protein)={ edge_index=[2, 289610] },\n",
       "  (cellular_component, rev_cellcomp_protein, gene_protein)={ edge_index=[2, 166804] },\n",
       "  (disease, rev_contraindication, drug)={ edge_index=[2, 61350] },\n",
       "  (effect_phenotype, rev_disease_phenotype_negative, disease)={ edge_index=[2, 2386] },\n",
       "  (effect_phenotype, rev_disease_phenotype_positive, disease)={ edge_index=[2, 300634] },\n",
       "  (disease, rev_disease_protein, gene_protein)={ edge_index=[2, 160822] },\n",
       "  (effect_phenotype, rev_drug_effect, drug)={ edge_index=[2, 129568] },\n",
       "  (gene_protein, rev_drug_protein, drug)={ edge_index=[2, 51306] },\n",
       "  (biological_process, rev_exposure_bioprocess, exposure)={ edge_index=[2, 3250] },\n",
       "  (cellular_component, rev_exposure_cellcomp, exposure)={ edge_index=[2, 20] },\n",
       "  (disease, rev_exposure_disease, exposure)={ edge_index=[2, 4608] },\n",
       "  (molecular_function, rev_exposure_molfunc, exposure)={ edge_index=[2, 90] },\n",
       "  (gene_protein, rev_exposure_protein, exposure)={ edge_index=[2, 2424] },\n",
       "  (disease, rev_indication, drug)={ edge_index=[2, 18776] },\n",
       "  (molecular_function, rev_molfunc_protein, gene_protein)={ edge_index=[2, 139060] },\n",
       "  (disease, rev_off_label_use, drug)={ edge_index=[2, 5136] },\n",
       "  (pathway, rev_pathway_protein, gene_protein)={ edge_index=[2, 85292] },\n",
       "  (effect_phenotype, rev_phenotype_protein, gene_protein)={ edge_index=[2, 6660] }\n",
       ")"
      ]
     },
     "metadata": {},
     "output_type": "display_data"
    }
   ],
   "source": [
    "edges = deepcopy(kg)\n",
    "\n",
    "# Apply edge dictionary\n",
    "edges['group_x'] = edges['x_index'].map(idx_to_group)\n",
    "edges['group_y'] = edges['y_index'].map(idx_to_group)\n",
    "\n",
    "# There are inconsistencies in the data, so we need to make sure that the group indices are stored to the correct side of the edge list\n",
    "exceptions = ['pathway_protein', 'drug_effect', 'drug_protein', 'exposure_molfunc', 'exposure_protein', 'molfunc_protein']\n",
    "\n",
    "# Group by relation\n",
    "groups = edges.groupby('relation')\n",
    "\n",
    "for relation, group in groups:\n",
    "    \n",
    "    # Done to see if the group is consistent\n",
    "    subgroups = group.groupby('x_type')\n",
    "    \n",
    "    if subgroups.ngroups == 1:\n",
    "        \n",
    "        # If consistent, make a simple edge list\n",
    "        x_indices = torch.tensor(group['group_x'].values, dtype=torch.long)\n",
    "        y_indices = torch.tensor(group['group_y'].values, dtype=torch.long)\n",
    "    \n",
    "        edge_list = torch.stack([x_indices, y_indices], dim=0)\n",
    "        \n",
    "    else:\n",
    "        \n",
    "        # If not, then we need to make sure that the group indices are stored to the correct side of the edge list\n",
    "        edge_list = [[],[]]\n",
    "        \n",
    "        if relation in exceptions:\n",
    "            edge_list[0].extend(list(subgroups.get_group(list(subgroups.groups)[0])['group_x']))\n",
    "            edge_list[1].extend(list(subgroups.get_group(list(subgroups.groups)[0])['group_y']))\n",
    "            \n",
    "            edge_list[0].extend(list(subgroups.get_group(list(subgroups.groups)[1])['group_y']))\n",
    "            edge_list[1].extend(list(subgroups.get_group(list(subgroups.groups)[1])['group_x']))\n",
    "            \n",
    "        else:\n",
    "            edge_list[0].extend(list(subgroups.get_group(list(subgroups.groups)[0])['group_y']))\n",
    "            edge_list[1].extend(list(subgroups.get_group(list(subgroups.groups)[0])['group_x']))\n",
    "            \n",
    "            edge_list[0].extend(list(subgroups.get_group(list(subgroups.groups)[1])['group_x']))\n",
    "            edge_list[1].extend(list(subgroups.get_group(list(subgroups.groups)[1])['group_y']))\n",
    "\n",
    "        # Convert to useable type\n",
    "        edge_list = torch.Tensor(edge_list)\n",
    "        edge_list = edge_list.type(torch.int64)\n",
    "        \n",
    "    # Store in data\n",
    "    data[group['x_type'].values[0], relation, group['y_type'].values[0]].edge_index = edge_list\n",
    "    \n",
    "# Data must be undirected for proper GNN Message Passing\n",
    "data = T.ToUndirected()(data)\n",
    "display(data)"
   ]
  },
  {
   "cell_type": "markdown",
   "metadata": {},
   "source": [
    "Finally, we use PyG's validation function to see if our dataset is valid"
   ]
  },
  {
   "cell_type": "code",
   "execution_count": 14,
   "metadata": {},
   "outputs": [
    {
     "data": {
      "text/plain": [
       "True"
      ]
     },
     "execution_count": 14,
     "metadata": {},
     "output_type": "execute_result"
    }
   ],
   "source": [
    "data.validate()"
   ]
  },
  {
   "cell_type": "markdown",
   "metadata": {},
   "source": [
    "# Training Data"
   ]
  },
  {
   "cell_type": "markdown",
   "metadata": {},
   "source": [
    "We organize the data into two main datasets, one with all edges and their relationships and the other with just drugs and diseases"
   ]
  },
  {
   "cell_type": "code",
   "execution_count": 15,
   "metadata": {},
   "outputs": [
    {
     "data": {
      "text/plain": [
       "torch.Size([12604474])"
      ]
     },
     "metadata": {},
     "output_type": "display_data"
    },
    {
     "data": {
      "text/plain": [
       "torch.Size([12604474])"
      ]
     },
     "metadata": {},
     "output_type": "display_data"
    },
    {
     "data": {
      "text/plain": [
       "torch.Size([12604474])"
      ]
     },
     "metadata": {},
     "output_type": "display_data"
    },
    {
     "data": {
      "text/plain": [
       "torch.Size([160252])"
      ]
     },
     "metadata": {},
     "output_type": "display_data"
    },
    {
     "data": {
      "text/plain": [
       "torch.Size([160252])"
      ]
     },
     "metadata": {},
     "output_type": "display_data"
    },
    {
     "data": {
      "text/plain": [
       "torch.Size([160252])"
      ]
     },
     "metadata": {},
     "output_type": "display_data"
    }
   ],
   "source": [
    "pretrain_head_idx = []\n",
    "pretrain_relation = []\n",
    "pretrain_tail_idx = []\n",
    "\n",
    "finetune_head_idx = []\n",
    "finetine_relation = []\n",
    "finetine_tail_idx = []\n",
    "\n",
    "for i,edge_type in enumerate(data.edge_types):\n",
    "    pretrain_head_idx.extend(data[edge_type].edge_index[0].tolist())\n",
    "    pretrain_relation.extend([i]*data[edge_type].edge_index.shape[1])\n",
    "    pretrain_tail_idx.extend(data[edge_type].edge_index[1].tolist())\n",
    "    \n",
    "    if edge_type[1] == 'contraindication' or edge_type[1] == 'rev_contraindication':\n",
    "        finetune_head_idx.extend(data[edge_type].edge_index[0].tolist())\n",
    "        finetine_relation.extend([0]*data[edge_type].edge_index.shape[1])\n",
    "        finetine_tail_idx.extend(data[edge_type].edge_index[1].tolist())\n",
    "    elif edge_type[1] == 'indication' or edge_type[1] == 'rev_indication':\n",
    "        finetune_head_idx.extend(data[edge_type].edge_index[0].tolist())\n",
    "        finetine_relation.extend([1]*data[edge_type].edge_index.shape[1])\n",
    "        finetine_tail_idx.extend(data[edge_type].edge_index[1].tolist())\n",
    "    elif edge_type[1] == 'off-label use' or edge_type[1] == 'rev_off-label use':\n",
    "        finetune_head_idx.extend(data[edge_type].edge_index[0].tolist())\n",
    "        finetine_relation.extend([2]*data[edge_type].edge_index.shape[1])\n",
    "        finetine_tail_idx.extend(data[edge_type].edge_index[1].tolist())\n",
    "        \n",
    "pretrain_head_idx = torch.tensor(pretrain_head_idx)\n",
    "pretrain_relation = torch.tensor(pretrain_relation)\n",
    "pretrain_tail_idx = torch.tensor(pretrain_tail_idx)\n",
    "\n",
    "finetune_head_idx = torch.tensor(finetune_head_idx)\n",
    "finetine_relation = torch.tensor(finetine_relation)\n",
    "finetine_tail_idx = torch.tensor(finetine_tail_idx)\n",
    "\n",
    "display(pretrain_head_idx.shape, pretrain_relation.shape, pretrain_tail_idx.shape)\n",
    "display(finetune_head_idx.shape, finetine_relation.shape, finetine_tail_idx.shape)"
   ]
  },
  {
   "cell_type": "markdown",
   "metadata": {},
   "source": [
    "Next we divide these edges into dataloaders"
   ]
  },
  {
   "cell_type": "code",
   "execution_count": 14,
   "metadata": {},
   "outputs": [],
   "source": [
    "pdata = torch.stack([pretrain_head_idx, pretrain_relation, pretrain_tail_idx], dim=1)\n",
    "fdata = torch.stack([finetune_head_idx, finetine_relation, finetine_tail_idx], dim=1)\n",
    "\n",
    "psplit = torch.utils.data.random_split(pdata, [0.8,0.1,0.1])\n",
    "fsplit = torch.utils.data.random_split(fdata, [0.8,0.1,0.1])\n",
    "\n",
    "ptrain_loader = DataLoader(psplit[0], batch_size=128, shuffle=True)\n",
    "pval_loader = DataLoader(psplit[1], batch_size=128, shuffle=True)\n",
    "ptest_loader = DataLoader(psplit[2], batch_size=128, shuffle=True)\n",
    "\n",
    "ftrain_loader = DataLoader(fsplit[0], batch_size=128, shuffle=True)\n",
    "fval_loader = DataLoader(fsplit[1], batch_size=128, shuffle=True)\n",
    "ftest_loader = DataLoader(fsplit[2], batch_size=128, shuffle=True)"
   ]
  },
  {
   "cell_type": "markdown",
   "metadata": {},
   "source": [
    "This should be all the data preparation that is necessary for simple pretraining and fine tuning (I hope), a .py file will be created for the simple creation of these dataloaders"
   ]
  }
 ],
 "metadata": {
  "kernelspec": {
   "display_name": ".venv",
   "language": "python",
   "name": "python3"
  },
  "language_info": {
   "codemirror_mode": {
    "name": "ipython",
    "version": 3
   },
   "file_extension": ".py",
   "mimetype": "text/x-python",
   "name": "python",
   "nbconvert_exporter": "python",
   "pygments_lexer": "ipython3",
   "version": "3.12.1"
  }
 },
 "nbformat": 4,
 "nbformat_minor": 2
}
