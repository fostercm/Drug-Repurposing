{
 "cells": [
  {
   "cell_type": "markdown",
   "metadata": {},
   "source": [
    "This notebook has 3 purposes:\n",
    "* Understanding the structure of the data\n",
    "* Constructing the knowledge graph (KG)\n",
    "* Producing the positive and negative samples for training"
   ]
  },
  {
   "cell_type": "markdown",
   "metadata": {},
   "source": [
    "# Data Structure"
   ]
  },
  {
   "cell_type": "code",
   "execution_count": 111,
   "metadata": {},
   "outputs": [],
   "source": [
    "import pandas as pd\n",
    "import os"
   ]
  },
  {
   "cell_type": "code",
   "execution_count": 112,
   "metadata": {},
   "outputs": [],
   "source": [
    "path = os.path.dirname(os.getcwd())"
   ]
  },
  {
   "cell_type": "markdown",
   "metadata": {},
   "source": [
    "Nodes"
   ]
  },
  {
   "cell_type": "code",
   "execution_count": 113,
   "metadata": {},
   "outputs": [
    {
     "name": "stdout",
     "output_type": "stream",
     "text": [
      "(129375, 5)\n"
     ]
    },
    {
     "data": {
      "text/html": [
       "<div>\n",
       "<style scoped>\n",
       "    .dataframe tbody tr th:only-of-type {\n",
       "        vertical-align: middle;\n",
       "    }\n",
       "\n",
       "    .dataframe tbody tr th {\n",
       "        vertical-align: top;\n",
       "    }\n",
       "\n",
       "    .dataframe thead th {\n",
       "        text-align: right;\n",
       "    }\n",
       "</style>\n",
       "<table border=\"1\" class=\"dataframe\">\n",
       "  <thead>\n",
       "    <tr style=\"text-align: right;\">\n",
       "      <th></th>\n",
       "      <th>node_index</th>\n",
       "      <th>node_id</th>\n",
       "      <th>node_type</th>\n",
       "      <th>node_name</th>\n",
       "      <th>node_source</th>\n",
       "    </tr>\n",
       "  </thead>\n",
       "  <tbody>\n",
       "    <tr>\n",
       "      <th>0</th>\n",
       "      <td>0</td>\n",
       "      <td>9796</td>\n",
       "      <td>gene/protein</td>\n",
       "      <td>PHYHIP</td>\n",
       "      <td>NCBI</td>\n",
       "    </tr>\n",
       "    <tr>\n",
       "      <th>1</th>\n",
       "      <td>1</td>\n",
       "      <td>7918</td>\n",
       "      <td>gene/protein</td>\n",
       "      <td>GPANK1</td>\n",
       "      <td>NCBI</td>\n",
       "    </tr>\n",
       "    <tr>\n",
       "      <th>2</th>\n",
       "      <td>2</td>\n",
       "      <td>8233</td>\n",
       "      <td>gene/protein</td>\n",
       "      <td>ZRSR2</td>\n",
       "      <td>NCBI</td>\n",
       "    </tr>\n",
       "    <tr>\n",
       "      <th>3</th>\n",
       "      <td>3</td>\n",
       "      <td>4899</td>\n",
       "      <td>gene/protein</td>\n",
       "      <td>NRF1</td>\n",
       "      <td>NCBI</td>\n",
       "    </tr>\n",
       "    <tr>\n",
       "      <th>4</th>\n",
       "      <td>4</td>\n",
       "      <td>5297</td>\n",
       "      <td>gene/protein</td>\n",
       "      <td>PI4KA</td>\n",
       "      <td>NCBI</td>\n",
       "    </tr>\n",
       "  </tbody>\n",
       "</table>\n",
       "</div>"
      ],
      "text/plain": [
       "   node_index node_id     node_type node_name node_source\n",
       "0           0    9796  gene/protein    PHYHIP        NCBI\n",
       "1           1    7918  gene/protein    GPANK1        NCBI\n",
       "2           2    8233  gene/protein     ZRSR2        NCBI\n",
       "3           3    4899  gene/protein      NRF1        NCBI\n",
       "4           4    5297  gene/protein     PI4KA        NCBI"
      ]
     },
     "execution_count": 113,
     "metadata": {},
     "output_type": "execute_result"
    }
   ],
   "source": [
    "nodes = pd.read_csv(path + r'\\data\\nodes.csv')\n",
    "print(nodes.shape)\n",
    "nodes.head()"
   ]
  },
  {
   "cell_type": "markdown",
   "metadata": {},
   "source": [
    "Edges"
   ]
  },
  {
   "cell_type": "code",
   "execution_count": 114,
   "metadata": {},
   "outputs": [
    {
     "name": "stdout",
     "output_type": "stream",
     "text": [
      "(8100498, 4)\n"
     ]
    },
    {
     "data": {
      "text/html": [
       "<div>\n",
       "<style scoped>\n",
       "    .dataframe tbody tr th:only-of-type {\n",
       "        vertical-align: middle;\n",
       "    }\n",
       "\n",
       "    .dataframe tbody tr th {\n",
       "        vertical-align: top;\n",
       "    }\n",
       "\n",
       "    .dataframe thead th {\n",
       "        text-align: right;\n",
       "    }\n",
       "</style>\n",
       "<table border=\"1\" class=\"dataframe\">\n",
       "  <thead>\n",
       "    <tr style=\"text-align: right;\">\n",
       "      <th></th>\n",
       "      <th>relation</th>\n",
       "      <th>display_relation</th>\n",
       "      <th>x_index</th>\n",
       "      <th>y_index</th>\n",
       "    </tr>\n",
       "  </thead>\n",
       "  <tbody>\n",
       "    <tr>\n",
       "      <th>0</th>\n",
       "      <td>protein_protein</td>\n",
       "      <td>ppi</td>\n",
       "      <td>0</td>\n",
       "      <td>8889</td>\n",
       "    </tr>\n",
       "    <tr>\n",
       "      <th>1</th>\n",
       "      <td>protein_protein</td>\n",
       "      <td>ppi</td>\n",
       "      <td>1</td>\n",
       "      <td>2798</td>\n",
       "    </tr>\n",
       "    <tr>\n",
       "      <th>2</th>\n",
       "      <td>protein_protein</td>\n",
       "      <td>ppi</td>\n",
       "      <td>2</td>\n",
       "      <td>5646</td>\n",
       "    </tr>\n",
       "    <tr>\n",
       "      <th>3</th>\n",
       "      <td>protein_protein</td>\n",
       "      <td>ppi</td>\n",
       "      <td>3</td>\n",
       "      <td>11592</td>\n",
       "    </tr>\n",
       "    <tr>\n",
       "      <th>4</th>\n",
       "      <td>protein_protein</td>\n",
       "      <td>ppi</td>\n",
       "      <td>4</td>\n",
       "      <td>2122</td>\n",
       "    </tr>\n",
       "  </tbody>\n",
       "</table>\n",
       "</div>"
      ],
      "text/plain": [
       "          relation display_relation  x_index  y_index\n",
       "0  protein_protein              ppi        0     8889\n",
       "1  protein_protein              ppi        1     2798\n",
       "2  protein_protein              ppi        2     5646\n",
       "3  protein_protein              ppi        3    11592\n",
       "4  protein_protein              ppi        4     2122"
      ]
     },
     "execution_count": 114,
     "metadata": {},
     "output_type": "execute_result"
    }
   ],
   "source": [
    "edges = pd.read_csv(path + r'\\data\\edges.csv')\n",
    "print(edges.shape)\n",
    "edges.head()"
   ]
  },
  {
   "cell_type": "markdown",
   "metadata": {},
   "source": [
    "Knowledge Graph"
   ]
  },
  {
   "cell_type": "code",
   "execution_count": 115,
   "metadata": {},
   "outputs": [
    {
     "name": "stderr",
     "output_type": "stream",
     "text": [
      "C:\\Users\\colef\\AppData\\Local\\Temp\\ipykernel_24304\\1339429219.py:1: DtypeWarning: Columns (3,8) have mixed types. Specify dtype option on import or set low_memory=False.\n",
      "  kg = pd.read_csv(path + r'\\data\\kg.csv')\n"
     ]
    },
    {
     "name": "stdout",
     "output_type": "stream",
     "text": [
      "(8100498, 12)\n"
     ]
    },
    {
     "data": {
      "text/html": [
       "<div>\n",
       "<style scoped>\n",
       "    .dataframe tbody tr th:only-of-type {\n",
       "        vertical-align: middle;\n",
       "    }\n",
       "\n",
       "    .dataframe tbody tr th {\n",
       "        vertical-align: top;\n",
       "    }\n",
       "\n",
       "    .dataframe thead th {\n",
       "        text-align: right;\n",
       "    }\n",
       "</style>\n",
       "<table border=\"1\" class=\"dataframe\">\n",
       "  <thead>\n",
       "    <tr style=\"text-align: right;\">\n",
       "      <th></th>\n",
       "      <th>relation</th>\n",
       "      <th>display_relation</th>\n",
       "      <th>x_index</th>\n",
       "      <th>x_id</th>\n",
       "      <th>x_type</th>\n",
       "      <th>x_name</th>\n",
       "      <th>x_source</th>\n",
       "      <th>y_index</th>\n",
       "      <th>y_id</th>\n",
       "      <th>y_type</th>\n",
       "      <th>y_name</th>\n",
       "      <th>y_source</th>\n",
       "    </tr>\n",
       "  </thead>\n",
       "  <tbody>\n",
       "    <tr>\n",
       "      <th>0</th>\n",
       "      <td>protein_protein</td>\n",
       "      <td>ppi</td>\n",
       "      <td>0</td>\n",
       "      <td>9796</td>\n",
       "      <td>gene/protein</td>\n",
       "      <td>PHYHIP</td>\n",
       "      <td>NCBI</td>\n",
       "      <td>8889</td>\n",
       "      <td>56992</td>\n",
       "      <td>gene/protein</td>\n",
       "      <td>KIF15</td>\n",
       "      <td>NCBI</td>\n",
       "    </tr>\n",
       "    <tr>\n",
       "      <th>1</th>\n",
       "      <td>protein_protein</td>\n",
       "      <td>ppi</td>\n",
       "      <td>1</td>\n",
       "      <td>7918</td>\n",
       "      <td>gene/protein</td>\n",
       "      <td>GPANK1</td>\n",
       "      <td>NCBI</td>\n",
       "      <td>2798</td>\n",
       "      <td>9240</td>\n",
       "      <td>gene/protein</td>\n",
       "      <td>PNMA1</td>\n",
       "      <td>NCBI</td>\n",
       "    </tr>\n",
       "    <tr>\n",
       "      <th>2</th>\n",
       "      <td>protein_protein</td>\n",
       "      <td>ppi</td>\n",
       "      <td>2</td>\n",
       "      <td>8233</td>\n",
       "      <td>gene/protein</td>\n",
       "      <td>ZRSR2</td>\n",
       "      <td>NCBI</td>\n",
       "      <td>5646</td>\n",
       "      <td>23548</td>\n",
       "      <td>gene/protein</td>\n",
       "      <td>TTC33</td>\n",
       "      <td>NCBI</td>\n",
       "    </tr>\n",
       "    <tr>\n",
       "      <th>3</th>\n",
       "      <td>protein_protein</td>\n",
       "      <td>ppi</td>\n",
       "      <td>3</td>\n",
       "      <td>4899</td>\n",
       "      <td>gene/protein</td>\n",
       "      <td>NRF1</td>\n",
       "      <td>NCBI</td>\n",
       "      <td>11592</td>\n",
       "      <td>11253</td>\n",
       "      <td>gene/protein</td>\n",
       "      <td>MAN1B1</td>\n",
       "      <td>NCBI</td>\n",
       "    </tr>\n",
       "    <tr>\n",
       "      <th>4</th>\n",
       "      <td>protein_protein</td>\n",
       "      <td>ppi</td>\n",
       "      <td>4</td>\n",
       "      <td>5297</td>\n",
       "      <td>gene/protein</td>\n",
       "      <td>PI4KA</td>\n",
       "      <td>NCBI</td>\n",
       "      <td>2122</td>\n",
       "      <td>8601</td>\n",
       "      <td>gene/protein</td>\n",
       "      <td>RGS20</td>\n",
       "      <td>NCBI</td>\n",
       "    </tr>\n",
       "  </tbody>\n",
       "</table>\n",
       "</div>"
      ],
      "text/plain": [
       "          relation display_relation  x_index  x_id        x_type  x_name  \\\n",
       "0  protein_protein              ppi        0  9796  gene/protein  PHYHIP   \n",
       "1  protein_protein              ppi        1  7918  gene/protein  GPANK1   \n",
       "2  protein_protein              ppi        2  8233  gene/protein   ZRSR2   \n",
       "3  protein_protein              ppi        3  4899  gene/protein    NRF1   \n",
       "4  protein_protein              ppi        4  5297  gene/protein   PI4KA   \n",
       "\n",
       "  x_source  y_index   y_id        y_type  y_name y_source  \n",
       "0     NCBI     8889  56992  gene/protein   KIF15     NCBI  \n",
       "1     NCBI     2798   9240  gene/protein   PNMA1     NCBI  \n",
       "2     NCBI     5646  23548  gene/protein   TTC33     NCBI  \n",
       "3     NCBI    11592  11253  gene/protein  MAN1B1     NCBI  \n",
       "4     NCBI     2122   8601  gene/protein   RGS20     NCBI  "
      ]
     },
     "execution_count": 115,
     "metadata": {},
     "output_type": "execute_result"
    }
   ],
   "source": [
    "kg = pd.read_csv(path + r'\\data\\kg.csv')\n",
    "print(kg.shape)\n",
    "kg.head()"
   ]
  },
  {
   "cell_type": "markdown",
   "metadata": {},
   "source": [
    "# KG Construction"
   ]
  },
  {
   "cell_type": "code",
   "execution_count": 139,
   "metadata": {},
   "outputs": [],
   "source": [
    "from torch_geometric.data import HeteroData\n",
    "from torch_geometric.loader import DataLoader\n",
    "import torch_geometric.transforms as T\n",
    "import torch"
   ]
  },
  {
   "cell_type": "markdown",
   "metadata": {},
   "source": [
    "Create HeteroData object"
   ]
  },
  {
   "cell_type": "code",
   "execution_count": 130,
   "metadata": {},
   "outputs": [
    {
     "data": {
      "text/plain": [
       "HeteroData()"
      ]
     },
     "metadata": {},
     "output_type": "display_data"
    }
   ],
   "source": [
    "data = HeteroData()\n",
    "\n",
    "display(data)"
   ]
  },
  {
   "cell_type": "markdown",
   "metadata": {},
   "source": [
    "Get the amount of each type of node"
   ]
  },
  {
   "cell_type": "code",
   "execution_count": 131,
   "metadata": {},
   "outputs": [
    {
     "data": {
      "text/plain": [
       "{'gene/protein': 27671,\n",
       " 'drug': 7957,\n",
       " 'effect/phenotype': 15311,\n",
       " 'disease': 17080,\n",
       " 'biological_process': 28642,\n",
       " 'molecular_function': 11169,\n",
       " 'cellular_component': 4176,\n",
       " 'exposure': 818,\n",
       " 'pathway': 2516,\n",
       " 'anatomy': 14035}"
      ]
     },
     "metadata": {},
     "output_type": "display_data"
    }
   ],
   "source": [
    "node_dict = {}\n",
    "\n",
    "for node in nodes['node_type']:\n",
    "    node_dict[node] = node_dict.get(node, 0) + 1\n",
    "\n",
    "display(node_dict)"
   ]
  },
  {
   "cell_type": "markdown",
   "metadata": {},
   "source": [
    "Randomize a feature tensor for each type of node and add to data object"
   ]
  },
  {
   "cell_type": "code",
   "execution_count": 133,
   "metadata": {},
   "outputs": [
    {
     "data": {
      "text/plain": [
       "HeteroData(\n",
       "  gene/protein=[27671, 16],\n",
       "  drug=[7957, 16],\n",
       "  effect/phenotype=[15311, 16],\n",
       "  disease=[17080, 16],\n",
       "  biological_process=[28642, 16],\n",
       "  molecular_function=[11169, 16],\n",
       "  cellular_component=[4176, 16],\n",
       "  exposure=[818, 16],\n",
       "  pathway=[2516, 16],\n",
       "  anatomy=[14035, 16],\n",
       "  num_nodes=129375\n",
       ")"
      ]
     },
     "metadata": {},
     "output_type": "display_data"
    }
   ],
   "source": [
    "for node_type in node_dict.keys():\n",
    "    data[node_type] = torch.randn(node_dict[node_type], 16)\n",
    "data['num_nodes'] = nodes.shape[0]\n",
    "\n",
    "display(data)"
   ]
  },
  {
   "cell_type": "markdown",
   "metadata": {},
   "source": [
    "Get the edge connections and add to data object"
   ]
  },
  {
   "cell_type": "code",
   "execution_count": 134,
   "metadata": {},
   "outputs": [
    {
     "data": {
      "text/plain": [
       "HeteroData(\n",
       "  gene/protein=[27671, 16],\n",
       "  drug=[7957, 16],\n",
       "  effect/phenotype=[15311, 16],\n",
       "  disease=[17080, 16],\n",
       "  biological_process=[28642, 16],\n",
       "  molecular_function=[11169, 16],\n",
       "  cellular_component=[4176, 16],\n",
       "  exposure=[818, 16],\n",
       "  pathway=[2516, 16],\n",
       "  anatomy=[14035, 16],\n",
       "  num_nodes=129375,\n",
       "  (gene/protein, protein_protein, gene/protein)=[2, 642150],\n",
       "  (drug, drug_protein, gene/protein)=[2, 51306],\n",
       "  (drug, contraindication, disease)=[2, 61350],\n",
       "  (drug, indication, disease)=[2, 18776],\n",
       "  (drug, off-label use, disease)=[2, 5136],\n",
       "  (drug, drug_drug, drug)=[2, 2672628],\n",
       "  (gene/protein, phenotype_protein, effect/phenotype)=[2, 6660],\n",
       "  (effect/phenotype, phenotype_phenotype, effect/phenotype)=[2, 37472],\n",
       "  (disease, disease_phenotype_negative, effect/phenotype)=[2, 2386],\n",
       "  (disease, disease_phenotype_positive, effect/phenotype)=[2, 300634],\n",
       "  (gene/protein, disease_protein, disease)=[2, 160822],\n",
       "  (disease, disease_disease, disease)=[2, 64388],\n",
       "  (drug, drug_effect, effect/phenotype)=[2, 129568],\n",
       "  (biological_process, bioprocess_bioprocess, biological_process)=[2, 105772],\n",
       "  (molecular_function, molfunc_molfunc, molecular_function)=[2, 27148],\n",
       "  (cellular_component, cellcomp_cellcomp, cellular_component)=[2, 9690],\n",
       "  (gene/protein, molfunc_protein, molecular_function)=[2, 139060],\n",
       "  (gene/protein, cellcomp_protein, cellular_component)=[2, 166804],\n",
       "  (gene/protein, bioprocess_protein, biological_process)=[2, 289610],\n",
       "  (exposure, exposure_protein, gene/protein)=[2, 2424],\n",
       "  (exposure, exposure_disease, disease)=[2, 4608],\n",
       "  (exposure, exposure_exposure, exposure)=[2, 4140],\n",
       "  (exposure, exposure_bioprocess, biological_process)=[2, 3250],\n",
       "  (exposure, exposure_molfunc, molecular_function)=[2, 90],\n",
       "  (exposure, exposure_cellcomp, cellular_component)=[2, 20],\n",
       "  (pathway, pathway_pathway, pathway)=[2, 5070],\n",
       "  (gene/protein, pathway_protein, pathway)=[2, 85292],\n",
       "  (anatomy, anatomy_anatomy, anatomy)=[2, 28064],\n",
       "  (gene/protein, anatomy_protein_present, anatomy)=[2, 3036406],\n",
       "  (gene/protein, anatomy_protein_absent, anatomy)=[2, 39774],\n",
       "  num_edges=8100498\n",
       ")"
      ]
     },
     "metadata": {},
     "output_type": "display_data"
    }
   ],
   "source": [
    "for edge_type in kg['relation'].unique():\n",
    "    relation_df = kg.loc[kg['relation'] == edge_type]\n",
    "    t1 = relation_df['x_type'].unique()[0]\n",
    "    t2 = relation_df['y_type'].unique()[0]\n",
    "    edge_list = [[],[]]\n",
    "    for edge_subtype in relation_df['display_relation'].unique():\n",
    "        sub_relation_df = relation_df.loc[relation_df['display_relation'] == edge_subtype]\n",
    "        if sub_relation_df['x_type'].unique()[0] == t1:\n",
    "            edge_list[0].extend(sub_relation_df['x_index'].to_list())\n",
    "            edge_list[1].extend(sub_relation_df['y_index'].to_list())\n",
    "        else:\n",
    "            edge_list[0].extend(sub_relation_df['y_index'].to_list())\n",
    "            edge_list[1].extend(sub_relation_df['x_index'].to_list())\n",
    "    edge_list = torch.Tensor(edge_list)\n",
    "    data[t1, edge_type, t2] = edge_list\n",
    "data['num_edges'] = edges.shape[0]\n",
    "\n",
    "display(data)"
   ]
  },
  {
   "cell_type": "markdown",
   "metadata": {},
   "source": [
    "Set graph to be undirected (Not required here)"
   ]
  },
  {
   "cell_type": "code",
   "execution_count": 136,
   "metadata": {},
   "outputs": [
    {
     "data": {
      "text/plain": [
       "HeteroData(\n",
       "  gene/protein=[27671, 16],\n",
       "  drug=[7957, 16],\n",
       "  effect/phenotype=[15311, 16],\n",
       "  disease=[17080, 16],\n",
       "  biological_process=[28642, 16],\n",
       "  molecular_function=[11169, 16],\n",
       "  cellular_component=[4176, 16],\n",
       "  exposure=[818, 16],\n",
       "  pathway=[2516, 16],\n",
       "  anatomy=[14035, 16],\n",
       "  num_nodes=129375,\n",
       "  (gene/protein, protein_protein, gene/protein)=[2, 642150],\n",
       "  (drug, drug_protein, gene/protein)=[2, 51306],\n",
       "  (drug, contraindication, disease)=[2, 61350],\n",
       "  (drug, indication, disease)=[2, 18776],\n",
       "  (drug, off-label use, disease)=[2, 5136],\n",
       "  (drug, drug_drug, drug)=[2, 2672628],\n",
       "  (gene/protein, phenotype_protein, effect/phenotype)=[2, 6660],\n",
       "  (effect/phenotype, phenotype_phenotype, effect/phenotype)=[2, 37472],\n",
       "  (disease, disease_phenotype_negative, effect/phenotype)=[2, 2386],\n",
       "  (disease, disease_phenotype_positive, effect/phenotype)=[2, 300634],\n",
       "  (gene/protein, disease_protein, disease)=[2, 160822],\n",
       "  (disease, disease_disease, disease)=[2, 64388],\n",
       "  (drug, drug_effect, effect/phenotype)=[2, 129568],\n",
       "  (biological_process, bioprocess_bioprocess, biological_process)=[2, 105772],\n",
       "  (molecular_function, molfunc_molfunc, molecular_function)=[2, 27148],\n",
       "  (cellular_component, cellcomp_cellcomp, cellular_component)=[2, 9690],\n",
       "  (gene/protein, molfunc_protein, molecular_function)=[2, 139060],\n",
       "  (gene/protein, cellcomp_protein, cellular_component)=[2, 166804],\n",
       "  (gene/protein, bioprocess_protein, biological_process)=[2, 289610],\n",
       "  (exposure, exposure_protein, gene/protein)=[2, 2424],\n",
       "  (exposure, exposure_disease, disease)=[2, 4608],\n",
       "  (exposure, exposure_exposure, exposure)=[2, 4140],\n",
       "  (exposure, exposure_bioprocess, biological_process)=[2, 3250],\n",
       "  (exposure, exposure_molfunc, molecular_function)=[2, 90],\n",
       "  (exposure, exposure_cellcomp, cellular_component)=[2, 20],\n",
       "  (pathway, pathway_pathway, pathway)=[2, 5070],\n",
       "  (gene/protein, pathway_protein, pathway)=[2, 85292],\n",
       "  (anatomy, anatomy_anatomy, anatomy)=[2, 28064],\n",
       "  (gene/protein, anatomy_protein_present, anatomy)=[2, 3036406],\n",
       "  (gene/protein, anatomy_protein_absent, anatomy)=[2, 39774],\n",
       "  num_edges=8100498\n",
       ")"
      ]
     },
     "metadata": {},
     "output_type": "display_data"
    }
   ],
   "source": [
    "data = T.ToUndirected()(data)\n",
    "display(data)"
   ]
  },
  {
   "cell_type": "markdown",
   "metadata": {},
   "source": [
    "# Training Data"
   ]
  },
  {
   "cell_type": "markdown",
   "metadata": {},
   "source": [
    "Will be done after setting up and testing the model"
   ]
  },
  {
   "cell_type": "code",
   "execution_count": null,
   "metadata": {},
   "outputs": [],
   "source": []
  }
 ],
 "metadata": {
  "kernelspec": {
   "display_name": ".venv",
   "language": "python",
   "name": "python3"
  },
  "language_info": {
   "codemirror_mode": {
    "name": "ipython",
    "version": 3
   },
   "file_extension": ".py",
   "mimetype": "text/x-python",
   "name": "python",
   "nbconvert_exporter": "python",
   "pygments_lexer": "ipython3",
   "version": "3.12.1"
  }
 },
 "nbformat": 4,
 "nbformat_minor": 2
}
