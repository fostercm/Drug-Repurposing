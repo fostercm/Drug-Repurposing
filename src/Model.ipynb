{
 "cells": [
  {
   "cell_type": "markdown",
   "metadata": {},
   "source": [
    "This notebook has 3 purposes:\n",
    "* Setting up the model architecture\n",
    "* Defining the training loop\n",
    "* Running a limited test of the model"
   ]
  },
  {
   "cell_type": "markdown",
   "metadata": {},
   "source": [
    "# Architecture"
   ]
  },
  {
   "cell_type": "code",
   "execution_count": 2,
   "metadata": {},
   "outputs": [],
   "source": [
    "import torch_geometric\n",
    "from torch_geometric import nn\n",
    "from torch_geometric.nn import GATConv\n",
    "from torch_geometric.nn.kge import DistMult\n",
    "import torch\n",
    "from torch.nn import SiLU"
   ]
  },
  {
   "cell_type": "markdown",
   "metadata": {},
   "source": [
    "This model will have a GAT-based encoder to produce node embeddings, with a DistMult-based decoder for the purpose of link prediction"
   ]
  },
  {
   "cell_type": "code",
   "execution_count": 3,
   "metadata": {},
   "outputs": [],
   "source": [
    "class KGLinkPredictor(torch.nn.Module):\n",
    "    def __init__(self, in_channels, hidden_channels,num_nodes,num_relations):\n",
    "        super(KGLinkPredictor, self).__init__()\n",
    "        \n",
    "        self.Encoder = nn.Sequential('x, edge_index', [\n",
    "            (GATConv(in_channels,hidden_channels), 'x, edge_index -> x'),\n",
    "            SiLU(inplace=True),\n",
    "            (GATConv(hidden_channels,hidden_channels), 'x, edge_index -> x'),\n",
    "            SiLU(inplace=True),\n",
    "            (GATConv(hidden_channels,hidden_channels), 'x, edge_index -> x')\n",
    "        ])\n",
    "        \n",
    "        self.Decoder = DistMult(num_nodes, num_relations, 1)\n",
    "\n",
    "    def forward(self, x, edge_index):\n",
    "        x = self.Encoder(x,edge_index)\n",
    "        return self.Decoder\n",
    "    \n",
    "    def loss(self, head_index, relation, tail_index):\n",
    "        return self.Decoder.loss(head_index, relation, tail_index)"
   ]
  },
  {
   "cell_type": "markdown",
   "metadata": {},
   "source": [
    "Test that model architecture is valid"
   ]
  },
  {
   "cell_type": "code",
   "execution_count": 45,
   "metadata": {},
   "outputs": [
    {
     "data": {
      "text/plain": [
       "tensor([[-0.0366, -0.0850, -0.0413,  0.0348],\n",
       "        [ 0.0393, -0.1528,  0.0971,  0.1557],\n",
       "        [ 0.0674, -0.1946,  0.1168,  0.2126],\n",
       "        [ 0.0333, -0.2110,  0.0365,  0.1925],\n",
       "        [-0.0348, -0.1303, -0.0739,  0.0702]], grad_fn=<AddBackward0>)"
      ]
     },
     "metadata": {},
     "output_type": "display_data"
    },
    {
     "data": {
      "text/plain": [
       "tensor(0.9725, grad_fn=<MeanBackward0>)"
      ]
     },
     "metadata": {},
     "output_type": "display_data"
    }
   ],
   "source": [
    "testModel = KGLinkPredictor(8,4,5,3)\n",
    "\n",
    "testEmbedding = torch.randn(5,8)\n",
    "testEdges = torch.tensor([[0,1,2,3,4],[1,2,3,4,0]])\n",
    "\n",
    "testEmbedding = testModel.Encoder(testEmbedding,testEdges)\n",
    "# torch.sigmoid(testModel.Decoder(testEmbedding[0],0,testEmbedding[1]))\n",
    "\n",
    "\n",
    "\n",
    "loss = testModel.loss(torch.tensor([0,1,2,3,4]),torch.tensor([0,1,2,0,1]),torch.tensor([1,2,3,4,0]))\n",
    "\n",
    "\n",
    "display(testEmbedding)\n",
    "display(loss)"
   ]
  },
  {
   "cell_type": "markdown",
   "metadata": {},
   "source": [
    "# Training"
   ]
  },
  {
   "cell_type": "markdown",
   "metadata": {},
   "source": [
    "First, we do a full-relation pre-training"
   ]
  },
  {
   "cell_type": "code",
   "execution_count": null,
   "metadata": {},
   "outputs": [],
   "source": [
    "def pretrain():\n",
    "    # Will complete after Dataset completion"
   ]
  },
  {
   "cell_type": "markdown",
   "metadata": {},
   "source": [
    "Next, we do focused drug-disease relation fine-tuning"
   ]
  },
  {
   "cell_type": "code",
   "execution_count": null,
   "metadata": {},
   "outputs": [],
   "source": [
    "def finetune():\n",
    "    # Will complete after Dataset completion"
   ]
  }
 ],
 "metadata": {
  "kernelspec": {
   "display_name": ".venv",
   "language": "python",
   "name": "python3"
  },
  "language_info": {
   "codemirror_mode": {
    "name": "ipython",
    "version": 3
   },
   "file_extension": ".py",
   "mimetype": "text/x-python",
   "name": "python",
   "nbconvert_exporter": "python",
   "pygments_lexer": "ipython3",
   "version": "3.12.1"
  }
 },
 "nbformat": 4,
 "nbformat_minor": 2
}
