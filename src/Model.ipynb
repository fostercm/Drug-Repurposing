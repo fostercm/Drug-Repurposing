{
 "cells": [
  {
   "cell_type": "markdown",
   "metadata": {},
   "source": [
    "This notebook has 3 purposes:\n",
    "* Setting up the model architecture\n",
    "* Defining the training loop\n",
    "* Running a limited test of the model"
   ]
  },
  {
   "cell_type": "markdown",
   "metadata": {},
   "source": [
    "# Architecture"
   ]
  },
  {
   "cell_type": "code",
   "execution_count": 1,
   "metadata": {},
   "outputs": [],
   "source": [
    "from torch_geometric import nn\n",
    "from torch_geometric.nn import GATConv\n",
    "import torch\n",
    "from torch.nn import SiLU\n",
    "from DistMultMod import DistMultMod"
   ]
  },
  {
   "cell_type": "markdown",
   "metadata": {},
   "source": [
    "This model will have a GAT-based encoder to produce node embeddings, with a DistMult-based decoder for the purpose of link prediction"
   ]
  },
  {
   "cell_type": "code",
   "execution_count": 2,
   "metadata": {},
   "outputs": [],
   "source": [
    "class KGLinkPredictor(torch.nn.Module):\n",
    "    def __init__(self, in_channels, hidden_channels, data):\n",
    "        super(KGLinkPredictor, self).__init__()\n",
    "        \n",
    "        self.Encoder = nn.Sequential('x, edge_index', [\n",
    "            (GATConv(in_channels,hidden_channels,add_self_loops=False), 'x, edge_index -> x'),\n",
    "            SiLU(inplace=True),\n",
    "            (GATConv(hidden_channels,hidden_channels,add_self_loops=False), 'x, edge_index -> x'),\n",
    "            SiLU(inplace=True),\n",
    "            (GATConv(hidden_channels,hidden_channels,add_self_loops=False), 'x, edge_index -> x')\n",
    "        ])\n",
    "        \n",
    "        self.Decoder = DistMultMod(data.num_nodes, data.num_edges, hidden_channels, data)\n",
    "\n",
    "    def forward(self, x, edge_index, head_indices, relations, tail_indices):\n",
    "        x = self.Encoder(x,edge_index)\n",
    "        self.Decoder.node_emb = x\n",
    "        return torch.sigmoid(self.Decoder(head_indices, relations, tail_indices))\n",
    "    \n",
    "    def loss(self, head_index, relation, tail_index):\n",
    "        return self.Decoder.loss(head_index, relation, tail_index)"
   ]
  },
  {
   "cell_type": "markdown",
   "metadata": {},
   "source": [
    "We set up a test model to make sure that our architecture is valid"
   ]
  },
  {
   "cell_type": "code",
   "execution_count": 3,
   "metadata": {},
   "outputs": [],
   "source": [
    "# testModel = KGLinkPredictor(8,8,5,3)\n",
    "\n",
    "# testEmbedding = torch.randn(5,8)\n",
    "# testEdges = torch.tensor([[0,1,2,3,4],[1,2,3,4,0]])\n",
    "\n",
    "# testPrediction = testModel(testEmbedding, testEdges, torch.tensor([0,0,2]), torch.tensor([0,0,0]), torch.tensor([2,1,3]))\n",
    "\n",
    "# display(testPrediction)"
   ]
  },
  {
   "cell_type": "markdown",
   "metadata": {},
   "source": [
    "# Training"
   ]
  },
  {
   "cell_type": "markdown",
   "metadata": {},
   "source": [
    "First, we do a full-relation pre-training"
   ]
  },
  {
   "cell_type": "code",
   "execution_count": 4,
   "metadata": {},
   "outputs": [],
   "source": [
    "# def train(dataLoader, model, optimizer, device):"
   ]
  },
  {
   "cell_type": "markdown",
   "metadata": {},
   "source": [
    "Next, we do focused drug-disease relation fine-tuning"
   ]
  },
  {
   "cell_type": "code",
   "execution_count": 5,
   "metadata": {},
   "outputs": [],
   "source": [
    "# def finetune():\n",
    "    # Will complete after Dataset completion"
   ]
  },
  {
   "cell_type": "markdown",
   "metadata": {},
   "source": [
    "# Test"
   ]
  },
  {
   "cell_type": "code",
   "execution_count": 6,
   "metadata": {},
   "outputs": [],
   "source": [
    "from Dataset import processData\n",
    "from torch_geometric.nn import to_hetero"
   ]
  },
  {
   "cell_type": "markdown",
   "metadata": {},
   "source": [
    "First we import and process our data"
   ]
  },
  {
   "cell_type": "code",
   "execution_count": 7,
   "metadata": {},
   "outputs": [
    {
     "name": "stderr",
     "output_type": "stream",
     "text": [
      "c:\\Users\\colef\\OneDrive - University of Miami\\Documents\\GitHub\\Drug-Repurposing\\src\\Dataset.py:15: DtypeWarning: Columns (3,8) have mixed types. Specify dtype option on import or set low_memory=False.\n",
      "  kg = pd.read_csv(path + r'\\data\\kg.csv')\n"
     ]
    },
    {
     "data": {
      "text/plain": [
       "HeteroData(\n",
       "  gene_protein={ x=[27671, 128] },\n",
       "  drug={ x=[7957, 128] },\n",
       "  effect_phenotype={ x=[15311, 128] },\n",
       "  disease={ x=[17080, 128] },\n",
       "  biological_process={ x=[28642, 128] },\n",
       "  molecular_function={ x=[11169, 128] },\n",
       "  cellular_component={ x=[4176, 128] },\n",
       "  exposure={ x=[818, 128] },\n",
       "  pathway={ x=[2516, 128] },\n",
       "  anatomy={ x=[14035, 128] },\n",
       "  (anatomy, anatomy_anatomy, anatomy)={ edge_index=[2, 28064] },\n",
       "  (gene_protein, anatomy_protein_absent, anatomy)={ edge_index=[2, 39774] },\n",
       "  (gene_protein, anatomy_protein_present, anatomy)={ edge_index=[2, 3036406] },\n",
       "  (biological_process, bioprocess_bioprocess, biological_process)={ edge_index=[2, 105772] },\n",
       "  (gene_protein, bioprocess_protein, biological_process)={ edge_index=[2, 289610] },\n",
       "  (cellular_component, cellcomp_cellcomp, cellular_component)={ edge_index=[2, 9690] },\n",
       "  (gene_protein, cellcomp_protein, cellular_component)={ edge_index=[2, 166804] },\n",
       "  (drug, contraindication, disease)={ edge_index=[2, 61350] },\n",
       "  (disease, disease_disease, disease)={ edge_index=[2, 64388] },\n",
       "  (disease, disease_phenotype_negative, effect_phenotype)={ edge_index=[2, 2386] },\n",
       "  (disease, disease_phenotype_positive, effect_phenotype)={ edge_index=[2, 300634] },\n",
       "  (gene_protein, disease_protein, disease)={ edge_index=[2, 160822] },\n",
       "  (drug, drug_drug, drug)={ edge_index=[2, 2672628] },\n",
       "  (drug, drug_effect, effect_phenotype)={ edge_index=[2, 129568] },\n",
       "  (drug, drug_protein, gene_protein)={ edge_index=[2, 51306] },\n",
       "  (exposure, exposure_bioprocess, biological_process)={ edge_index=[2, 3250] },\n",
       "  (exposure, exposure_cellcomp, cellular_component)={ edge_index=[2, 20] },\n",
       "  (exposure, exposure_disease, disease)={ edge_index=[2, 4608] },\n",
       "  (exposure, exposure_exposure, exposure)={ edge_index=[2, 4140] },\n",
       "  (exposure, exposure_molfunc, molecular_function)={ edge_index=[2, 90] },\n",
       "  (exposure, exposure_protein, gene_protein)={ edge_index=[2, 2424] },\n",
       "  (drug, indication, disease)={ edge_index=[2, 18776] },\n",
       "  (molecular_function, molfunc_molfunc, molecular_function)={ edge_index=[2, 27148] },\n",
       "  (gene_protein, molfunc_protein, molecular_function)={ edge_index=[2, 139060] },\n",
       "  (drug, off_label_use, disease)={ edge_index=[2, 5136] },\n",
       "  (pathway, pathway_pathway, pathway)={ edge_index=[2, 5070] },\n",
       "  (gene_protein, pathway_protein, pathway)={ edge_index=[2, 85292] },\n",
       "  (effect_phenotype, phenotype_phenotype, effect_phenotype)={ edge_index=[2, 37472] },\n",
       "  (gene_protein, phenotype_protein, effect_phenotype)={ edge_index=[2, 6660] },\n",
       "  (gene_protein, protein_protein, gene_protein)={ edge_index=[2, 642150] },\n",
       "  (anatomy, rev_anatomy_protein_absent, gene_protein)={ edge_index=[2, 39774] },\n",
       "  (anatomy, rev_anatomy_protein_present, gene_protein)={ edge_index=[2, 3036406] },\n",
       "  (biological_process, rev_bioprocess_protein, gene_protein)={ edge_index=[2, 289610] },\n",
       "  (cellular_component, rev_cellcomp_protein, gene_protein)={ edge_index=[2, 166804] },\n",
       "  (disease, rev_contraindication, drug)={ edge_index=[2, 61350] },\n",
       "  (effect_phenotype, rev_disease_phenotype_negative, disease)={ edge_index=[2, 2386] },\n",
       "  (effect_phenotype, rev_disease_phenotype_positive, disease)={ edge_index=[2, 300634] },\n",
       "  (disease, rev_disease_protein, gene_protein)={ edge_index=[2, 160822] },\n",
       "  (effect_phenotype, rev_drug_effect, drug)={ edge_index=[2, 129568] },\n",
       "  (gene_protein, rev_drug_protein, drug)={ edge_index=[2, 51306] },\n",
       "  (biological_process, rev_exposure_bioprocess, exposure)={ edge_index=[2, 3250] },\n",
       "  (cellular_component, rev_exposure_cellcomp, exposure)={ edge_index=[2, 20] },\n",
       "  (disease, rev_exposure_disease, exposure)={ edge_index=[2, 4608] },\n",
       "  (molecular_function, rev_exposure_molfunc, exposure)={ edge_index=[2, 90] },\n",
       "  (gene_protein, rev_exposure_protein, exposure)={ edge_index=[2, 2424] },\n",
       "  (disease, rev_indication, drug)={ edge_index=[2, 18776] },\n",
       "  (molecular_function, rev_molfunc_protein, gene_protein)={ edge_index=[2, 139060] },\n",
       "  (disease, rev_off_label_use, drug)={ edge_index=[2, 5136] },\n",
       "  (pathway, rev_pathway_protein, gene_protein)={ edge_index=[2, 85292] },\n",
       "  (effect_phenotype, rev_phenotype_protein, gene_protein)={ edge_index=[2, 6660] }\n",
       ")"
      ]
     },
     "metadata": {},
     "output_type": "display_data"
    },
    {
     "name": "stdout",
     "output_type": "stream",
     "text": [
      "50629 6329 6329\n",
      "501 63 63\n"
     ]
    }
   ],
   "source": [
    "data, ptrain_loader, pval_loader, ptest_loader, ftrain_loader, fval_loader, ftest_loader = processData(128,128)\n",
    "display(data)\n",
    "print(len(ptrain_loader), len(pval_loader), len(ptest_loader))\n",
    "print(len(ftrain_loader), len(fval_loader), len(ftest_loader))"
   ]
  },
  {
   "cell_type": "markdown",
   "metadata": {},
   "source": [
    "We will run the model once on our data"
   ]
  },
  {
   "cell_type": "code",
   "execution_count": 8,
   "metadata": {},
   "outputs": [
    {
     "data": {
      "text/plain": [
       "tensor([0.5000, 0.5000, 0.5000, 0.5000, 0.5000, 0.5000, 0.5000, 0.5000, 0.5000,\n",
       "        0.5000])"
      ]
     },
     "execution_count": 8,
     "metadata": {},
     "output_type": "execute_result"
    }
   ],
   "source": [
    "testModel = KGLinkPredictor(128,8,data)\n",
    "testModel.Encoder = to_hetero(testModel.Encoder,data.metadata())\n",
    "\n",
    "with torch.no_grad():\n",
    "    out = testModel(data.x_dict, data.edge_index_dict, torch.tensor([0,1,2,3,4,5,6,7,8,9]), torch.tensor([1,3,5,7,9,0,2,4,6,8]), torch.tensor([100,200,300,400,500,600,700,800,900,1000]))\n",
    "out"
   ]
  },
  {
   "cell_type": "code",
   "execution_count": 9,
   "metadata": {},
   "outputs": [
    {
     "ename": "IndexError",
     "evalue": "index 17062 is out of bounds for dimension 0 with size 14035",
     "output_type": "error",
     "traceback": [
      "\u001b[1;31m---------------------------------------------------------------------------\u001b[0m",
      "\u001b[1;31mIndexError\u001b[0m                                Traceback (most recent call last)",
      "Cell \u001b[1;32mIn[9], line 1\u001b[0m\n\u001b[1;32m----> 1\u001b[0m \u001b[43mtestModel\u001b[49m\u001b[38;5;241;43m.\u001b[39;49m\u001b[43mloss\u001b[49m\u001b[43m(\u001b[49m\u001b[43mtorch\u001b[49m\u001b[38;5;241;43m.\u001b[39;49m\u001b[43mtensor\u001b[49m\u001b[43m(\u001b[49m\u001b[43m[\u001b[49m\u001b[38;5;241;43m0\u001b[39;49m\u001b[43m,\u001b[49m\u001b[38;5;241;43m0\u001b[39;49m\u001b[43m,\u001b[49m\u001b[38;5;241;43m2\u001b[39;49m\u001b[43m]\u001b[49m\u001b[43m)\u001b[49m\u001b[43m,\u001b[49m\u001b[43m \u001b[49m\u001b[43mtorch\u001b[49m\u001b[38;5;241;43m.\u001b[39;49m\u001b[43mtensor\u001b[49m\u001b[43m(\u001b[49m\u001b[43m[\u001b[49m\u001b[38;5;241;43m0\u001b[39;49m\u001b[43m,\u001b[49m\u001b[38;5;241;43m1\u001b[39;49m\u001b[43m,\u001b[49m\u001b[38;5;241;43m2\u001b[39;49m\u001b[43m]\u001b[49m\u001b[43m)\u001b[49m\u001b[43m,\u001b[49m\u001b[43m \u001b[49m\u001b[43mtorch\u001b[49m\u001b[38;5;241;43m.\u001b[39;49m\u001b[43mtensor\u001b[49m\u001b[43m(\u001b[49m\u001b[43m[\u001b[49m\u001b[38;5;241;43m2\u001b[39;49m\u001b[43m,\u001b[49m\u001b[38;5;241;43m1\u001b[39;49m\u001b[43m,\u001b[49m\u001b[38;5;241;43m3\u001b[39;49m\u001b[43m]\u001b[49m\u001b[43m)\u001b[49m\u001b[43m)\u001b[49m\n",
      "Cell \u001b[1;32mIn[2], line 21\u001b[0m, in \u001b[0;36mKGLinkPredictor.loss\u001b[1;34m(self, head_index, relation, tail_index)\u001b[0m\n\u001b[0;32m     20\u001b[0m \u001b[38;5;28;01mdef\u001b[39;00m \u001b[38;5;21mloss\u001b[39m(\u001b[38;5;28mself\u001b[39m, head_index, relation, tail_index):\n\u001b[1;32m---> 21\u001b[0m     \u001b[38;5;28;01mreturn\u001b[39;00m \u001b[38;5;28;43mself\u001b[39;49m\u001b[38;5;241;43m.\u001b[39;49m\u001b[43mDecoder\u001b[49m\u001b[38;5;241;43m.\u001b[39;49m\u001b[43mloss\u001b[49m\u001b[43m(\u001b[49m\u001b[43mhead_index\u001b[49m\u001b[43m,\u001b[49m\u001b[43m \u001b[49m\u001b[43mrelation\u001b[49m\u001b[43m,\u001b[49m\u001b[43m \u001b[49m\u001b[43mtail_index\u001b[49m\u001b[43m)\u001b[49m\n",
      "File \u001b[1;32mc:\\Users\\colef\\OneDrive - University of Miami\\Documents\\GitHub\\Drug-Repurposing\\src\\DistMultMod.py:90\u001b[0m, in \u001b[0;36mDistMultMod.loss\u001b[1;34m(self, head_index, rel_type, tail_index)\u001b[0m\n\u001b[0;32m     82\u001b[0m \u001b[38;5;28;01mdef\u001b[39;00m \u001b[38;5;21mloss\u001b[39m(\n\u001b[0;32m     83\u001b[0m         \u001b[38;5;28mself\u001b[39m,\n\u001b[0;32m     84\u001b[0m         head_index: Tensor,\n\u001b[0;32m     85\u001b[0m         rel_type: Tensor,\n\u001b[0;32m     86\u001b[0m         tail_index: Tensor,\n\u001b[0;32m     87\u001b[0m     ) \u001b[38;5;241m-\u001b[39m\u001b[38;5;241m>\u001b[39m Tensor:\n\u001b[0;32m     89\u001b[0m     pos_score \u001b[38;5;241m=\u001b[39m \u001b[38;5;28mself\u001b[39m(head_index, rel_type, tail_index)\n\u001b[1;32m---> 90\u001b[0m     neg_score \u001b[38;5;241m=\u001b[39m \u001b[38;5;28;43mself\u001b[39;49m\u001b[43m(\u001b[49m\u001b[38;5;241;43m*\u001b[39;49m\u001b[38;5;28;43mself\u001b[39;49m\u001b[38;5;241;43m.\u001b[39;49m\u001b[43mrandom_sample\u001b[49m\u001b[43m(\u001b[49m\u001b[43mhead_index\u001b[49m\u001b[43m,\u001b[49m\u001b[43m \u001b[49m\u001b[43mrel_type\u001b[49m\u001b[43m,\u001b[49m\u001b[43m \u001b[49m\u001b[43mtail_index\u001b[49m\u001b[43m)\u001b[49m\u001b[43m)\u001b[49m\n\u001b[0;32m     92\u001b[0m     \u001b[38;5;28;01mreturn\u001b[39;00m F\u001b[38;5;241m.\u001b[39mmargin_ranking_loss(\n\u001b[0;32m     93\u001b[0m         pos_score,\n\u001b[0;32m     94\u001b[0m         neg_score,\n\u001b[0;32m     95\u001b[0m         target\u001b[38;5;241m=\u001b[39mtorch\u001b[38;5;241m.\u001b[39mones_like(pos_score),\n\u001b[0;32m     96\u001b[0m         margin\u001b[38;5;241m=\u001b[39m\u001b[38;5;28mself\u001b[39m\u001b[38;5;241m.\u001b[39mmargin,\n\u001b[0;32m     97\u001b[0m     )\n",
      "File \u001b[1;32mc:\\Users\\colef\\OneDrive - University of Miami\\Documents\\GitHub\\Drug-Repurposing\\.venv\\Lib\\site-packages\\torch\\nn\\modules\\module.py:1532\u001b[0m, in \u001b[0;36mModule._wrapped_call_impl\u001b[1;34m(self, *args, **kwargs)\u001b[0m\n\u001b[0;32m   1530\u001b[0m     \u001b[38;5;28;01mreturn\u001b[39;00m \u001b[38;5;28mself\u001b[39m\u001b[38;5;241m.\u001b[39m_compiled_call_impl(\u001b[38;5;241m*\u001b[39margs, \u001b[38;5;241m*\u001b[39m\u001b[38;5;241m*\u001b[39mkwargs)  \u001b[38;5;66;03m# type: ignore[misc]\u001b[39;00m\n\u001b[0;32m   1531\u001b[0m \u001b[38;5;28;01melse\u001b[39;00m:\n\u001b[1;32m-> 1532\u001b[0m     \u001b[38;5;28;01mreturn\u001b[39;00m \u001b[38;5;28;43mself\u001b[39;49m\u001b[38;5;241;43m.\u001b[39;49m\u001b[43m_call_impl\u001b[49m\u001b[43m(\u001b[49m\u001b[38;5;241;43m*\u001b[39;49m\u001b[43margs\u001b[49m\u001b[43m,\u001b[49m\u001b[43m \u001b[49m\u001b[38;5;241;43m*\u001b[39;49m\u001b[38;5;241;43m*\u001b[39;49m\u001b[43mkwargs\u001b[49m\u001b[43m)\u001b[49m\n",
      "File \u001b[1;32mc:\\Users\\colef\\OneDrive - University of Miami\\Documents\\GitHub\\Drug-Repurposing\\.venv\\Lib\\site-packages\\torch\\nn\\modules\\module.py:1541\u001b[0m, in \u001b[0;36mModule._call_impl\u001b[1;34m(self, *args, **kwargs)\u001b[0m\n\u001b[0;32m   1536\u001b[0m \u001b[38;5;66;03m# If we don't have any hooks, we want to skip the rest of the logic in\u001b[39;00m\n\u001b[0;32m   1537\u001b[0m \u001b[38;5;66;03m# this function, and just call forward.\u001b[39;00m\n\u001b[0;32m   1538\u001b[0m \u001b[38;5;28;01mif\u001b[39;00m \u001b[38;5;129;01mnot\u001b[39;00m (\u001b[38;5;28mself\u001b[39m\u001b[38;5;241m.\u001b[39m_backward_hooks \u001b[38;5;129;01mor\u001b[39;00m \u001b[38;5;28mself\u001b[39m\u001b[38;5;241m.\u001b[39m_backward_pre_hooks \u001b[38;5;129;01mor\u001b[39;00m \u001b[38;5;28mself\u001b[39m\u001b[38;5;241m.\u001b[39m_forward_hooks \u001b[38;5;129;01mor\u001b[39;00m \u001b[38;5;28mself\u001b[39m\u001b[38;5;241m.\u001b[39m_forward_pre_hooks\n\u001b[0;32m   1539\u001b[0m         \u001b[38;5;129;01mor\u001b[39;00m _global_backward_pre_hooks \u001b[38;5;129;01mor\u001b[39;00m _global_backward_hooks\n\u001b[0;32m   1540\u001b[0m         \u001b[38;5;129;01mor\u001b[39;00m _global_forward_hooks \u001b[38;5;129;01mor\u001b[39;00m _global_forward_pre_hooks):\n\u001b[1;32m-> 1541\u001b[0m     \u001b[38;5;28;01mreturn\u001b[39;00m \u001b[43mforward_call\u001b[49m\u001b[43m(\u001b[49m\u001b[38;5;241;43m*\u001b[39;49m\u001b[43margs\u001b[49m\u001b[43m,\u001b[49m\u001b[43m \u001b[49m\u001b[38;5;241;43m*\u001b[39;49m\u001b[38;5;241;43m*\u001b[39;49m\u001b[43mkwargs\u001b[49m\u001b[43m)\u001b[49m\n\u001b[0;32m   1543\u001b[0m \u001b[38;5;28;01mtry\u001b[39;00m:\n\u001b[0;32m   1544\u001b[0m     result \u001b[38;5;241m=\u001b[39m \u001b[38;5;28;01mNone\u001b[39;00m\n",
      "File \u001b[1;32mc:\\Users\\colef\\OneDrive - University of Miami\\Documents\\GitHub\\Drug-Repurposing\\src\\DistMultMod.py:77\u001b[0m, in \u001b[0;36mDistMultMod.forward\u001b[1;34m(self, head_index, rel_type, tail_index)\u001b[0m\n\u001b[0;32m     75\u001b[0m keys \u001b[38;5;241m=\u001b[39m \u001b[38;5;28mlist\u001b[39m(\u001b[38;5;28mself\u001b[39m\u001b[38;5;241m.\u001b[39mdata\u001b[38;5;241m.\u001b[39medge_index_dict\u001b[38;5;241m.\u001b[39mkeys())\n\u001b[0;32m     76\u001b[0m \u001b[38;5;28;01mfor\u001b[39;00m i \u001b[38;5;129;01min\u001b[39;00m \u001b[38;5;28mrange\u001b[39m(\u001b[38;5;28mlen\u001b[39m(rel_type)):\n\u001b[1;32m---> 77\u001b[0m     head[i][:] \u001b[38;5;241m=\u001b[39m \u001b[38;5;28;43mself\u001b[39;49m\u001b[38;5;241;43m.\u001b[39;49m\u001b[43mnode_emb\u001b[49m\u001b[43m[\u001b[49m\u001b[43mkeys\u001b[49m\u001b[43m[\u001b[49m\u001b[43mrel_type\u001b[49m\u001b[43m[\u001b[49m\u001b[43mi\u001b[49m\u001b[43m]\u001b[49m\u001b[43m]\u001b[49m\u001b[43m[\u001b[49m\u001b[38;5;241;43m0\u001b[39;49m\u001b[43m]\u001b[49m\u001b[43m]\u001b[49m\u001b[43m[\u001b[49m\u001b[43mhead_index\u001b[49m\u001b[43m[\u001b[49m\u001b[43mi\u001b[49m\u001b[43m]\u001b[49m\u001b[43m]\u001b[49m\n\u001b[0;32m     78\u001b[0m     tail[i][:] \u001b[38;5;241m=\u001b[39m \u001b[38;5;28mself\u001b[39m\u001b[38;5;241m.\u001b[39mnode_emb[keys[rel_type[i]][\u001b[38;5;241m2\u001b[39m]][tail_index[i]]\n\u001b[0;32m     79\u001b[0m rel \u001b[38;5;241m=\u001b[39m \u001b[38;5;28mself\u001b[39m\u001b[38;5;241m.\u001b[39mrel_emb[rel_type]\n",
      "\u001b[1;31mIndexError\u001b[0m: index 17062 is out of bounds for dimension 0 with size 14035"
     ]
    }
   ],
   "source": [
    "testModel.loss(torch.tensor([0,0,2]), torch.tensor([0,1,2]), torch.tensor([2,1,3]))"
   ]
  }
 ],
 "metadata": {
  "kernelspec": {
   "display_name": ".venv",
   "language": "python",
   "name": "python3"
  },
  "language_info": {
   "codemirror_mode": {
    "name": "ipython",
    "version": 3
   },
   "file_extension": ".py",
   "mimetype": "text/x-python",
   "name": "python",
   "nbconvert_exporter": "python",
   "pygments_lexer": "ipython3",
   "version": "3.12.1"
  }
 },
 "nbformat": 4,
 "nbformat_minor": 2
}
