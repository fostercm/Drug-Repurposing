{
 "cells": [
  {
   "cell_type": "markdown",
   "metadata": {},
   "source": [
    "This notebook has 3 purposes:\n",
    "* Setting up the model architecture\n",
    "* Defining the training loop\n",
    "* Running a limited test of the model"
   ]
  },
  {
   "cell_type": "markdown",
   "metadata": {},
   "source": [
    "# Architecture"
   ]
  },
  {
   "cell_type": "code",
   "execution_count": 6,
   "metadata": {},
   "outputs": [],
   "source": [
    "import torch_geometric\n",
    "from torch_geometric import nn\n",
    "from torch_geometric.nn import GATConv\n",
    "from torch_geometric.nn.kge import DistMult\n",
    "import torch\n",
    "from torch.nn import SiLU"
   ]
  },
  {
   "cell_type": "markdown",
   "metadata": {},
   "source": [
    "This model will have a GAT-based encoder to produce node embeddings, with a DistMult-based decoder for the purpose of link prediction"
   ]
  },
  {
   "cell_type": "code",
   "execution_count": 8,
   "metadata": {},
   "outputs": [],
   "source": [
    "class KGLinkPredictor(torch.nn.Module):\n",
    "    def __init__(self, in_channels, hidden_channels,num_nodes,num_relations):\n",
    "        super(KGLinkPredictor, self).__init__()\n",
    "        \n",
    "        self.Encoder = nn.Sequential('x, edge_index', [\n",
    "            (GATConv(in_channels,hidden_channels), 'x, edge_index -> x'),\n",
    "            SiLU(inplace=True),\n",
    "            (GATConv(hidden_channels,hidden_channels), 'x, edge_index -> x'),\n",
    "            SiLU(inplace=True),\n",
    "            (GATConv(hidden_channels,hidden_channels), 'x, edge_index -> x')\n",
    "        ])\n",
    "        \n",
    "        self.Decoder = DistMult(num_nodes, num_relations, 1)\n",
    "\n",
    "    def forward(self, x, edge_index):\n",
    "        return self.Encoder(x,edge_index)\n",
    "    \n",
    "    def loss(self, head_index, relation, tail_index):\n",
    "        return self.Decoder.loss(head_index, relation, tail_index)"
   ]
  },
  {
   "cell_type": "markdown",
   "metadata": {},
   "source": [
    "# Training"
   ]
  },
  {
   "cell_type": "markdown",
   "metadata": {},
   "source": [
    "First, we do a full-relation pre-training"
   ]
  },
  {
   "cell_type": "code",
   "execution_count": null,
   "metadata": {},
   "outputs": [],
   "source": [
    "def pretrain():\n",
    "    # Will complete after Dataset completion"
   ]
  },
  {
   "cell_type": "markdown",
   "metadata": {},
   "source": [
    "Next, we do focused drug-disease relation fine-tuning"
   ]
  },
  {
   "cell_type": "code",
   "execution_count": null,
   "metadata": {},
   "outputs": [],
   "source": [
    "def finetune():\n",
    "    # Will complete after Dataset completion"
   ]
  }
 ],
 "metadata": {
  "kernelspec": {
   "display_name": ".venv",
   "language": "python",
   "name": "python3"
  },
  "language_info": {
   "codemirror_mode": {
    "name": "ipython",
    "version": 3
   },
   "file_extension": ".py",
   "mimetype": "text/x-python",
   "name": "python",
   "nbconvert_exporter": "python",
   "pygments_lexer": "ipython3",
   "version": "3.12.1"
  }
 },
 "nbformat": 4,
 "nbformat_minor": 2
}
