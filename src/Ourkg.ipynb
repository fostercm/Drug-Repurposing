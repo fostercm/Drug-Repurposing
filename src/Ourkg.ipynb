{
 "cells": [
  {
   "cell_type": "code",
   "execution_count": 45,
   "metadata": {},
   "outputs": [],
   "source": [
    "import pandas as pd\n",
    "import os\n",
    "import numpy as np\n",
    "from Dataset import processFiles\n",
    "from copy import deepcopy"
   ]
  },
  {
   "cell_type": "markdown",
   "metadata": {},
   "source": [
    "# Make our Knowledge Graph"
   ]
  },
  {
   "cell_type": "markdown",
   "metadata": {},
   "source": [
    "Import knowledge graph"
   ]
  },
  {
   "cell_type": "code",
   "execution_count": 46,
   "metadata": {},
   "outputs": [
    {
     "data": {
      "text/html": [
       "<div>\n",
       "<style scoped>\n",
       "    .dataframe tbody tr th:only-of-type {\n",
       "        vertical-align: middle;\n",
       "    }\n",
       "\n",
       "    .dataframe tbody tr th {\n",
       "        vertical-align: top;\n",
       "    }\n",
       "\n",
       "    .dataframe thead th {\n",
       "        text-align: right;\n",
       "    }\n",
       "</style>\n",
       "<table border=\"1\" class=\"dataframe\">\n",
       "  <thead>\n",
       "    <tr style=\"text-align: right;\">\n",
       "      <th></th>\n",
       "      <th>0</th>\n",
       "      <th>1</th>\n",
       "      <th>2</th>\n",
       "      <th>3</th>\n",
       "      <th>4</th>\n",
       "    </tr>\n",
       "  </thead>\n",
       "  <tbody>\n",
       "    <tr>\n",
       "      <th>0</th>\n",
       "      <td>disease_protein</td>\n",
       "      <td>gene_protein</td>\n",
       "      <td>SNRNP48</td>\n",
       "      <td>disease</td>\n",
       "      <td>Minor spliceosome</td>\n",
       "    </tr>\n",
       "    <tr>\n",
       "      <th>1</th>\n",
       "      <td>disease_protein</td>\n",
       "      <td>gene_protein</td>\n",
       "      <td>SNRNP35</td>\n",
       "      <td>disease</td>\n",
       "      <td>Minor spliceosome</td>\n",
       "    </tr>\n",
       "    <tr>\n",
       "      <th>2</th>\n",
       "      <td>disease_protein</td>\n",
       "      <td>gene_protein</td>\n",
       "      <td>SNRNP25</td>\n",
       "      <td>disease</td>\n",
       "      <td>Minor spliceosome</td>\n",
       "    </tr>\n",
       "    <tr>\n",
       "      <th>3</th>\n",
       "      <td>disease_protein</td>\n",
       "      <td>gene_protein</td>\n",
       "      <td>RNPC3</td>\n",
       "      <td>disease</td>\n",
       "      <td>Minor spliceosome</td>\n",
       "    </tr>\n",
       "    <tr>\n",
       "      <th>4</th>\n",
       "      <td>disease_protein</td>\n",
       "      <td>gene_protein</td>\n",
       "      <td>PDCD7</td>\n",
       "      <td>disease</td>\n",
       "      <td>Minor spliceosome</td>\n",
       "    </tr>\n",
       "  </tbody>\n",
       "</table>\n",
       "</div>"
      ],
      "text/plain": [
       "                 0             1        2        3                  4\n",
       "0  disease_protein  gene_protein  SNRNP48  disease  Minor spliceosome\n",
       "1  disease_protein  gene_protein  SNRNP35  disease  Minor spliceosome\n",
       "2  disease_protein  gene_protein  SNRNP25  disease  Minor spliceosome\n",
       "3  disease_protein  gene_protein    RNPC3  disease  Minor spliceosome\n",
       "4  disease_protein  gene_protein    PDCD7  disease  Minor spliceosome"
      ]
     },
     "execution_count": 46,
     "metadata": {},
     "output_type": "execute_result"
    }
   ],
   "source": [
    "path = os.path.dirname(os.getcwd()) + '/data'\n",
    "ourKG = pd.read_csv(path+'/ourKg_raw.txt', header=None, delimiter=r'\\t')\n",
    "ourKG.head()"
   ]
  },
  {
   "cell_type": "markdown",
   "metadata": {},
   "source": [
    "Rename columns"
   ]
  },
  {
   "cell_type": "code",
   "execution_count": 47,
   "metadata": {},
   "outputs": [
    {
     "data": {
      "text/html": [
       "<div>\n",
       "<style scoped>\n",
       "    .dataframe tbody tr th:only-of-type {\n",
       "        vertical-align: middle;\n",
       "    }\n",
       "\n",
       "    .dataframe tbody tr th {\n",
       "        vertical-align: top;\n",
       "    }\n",
       "\n",
       "    .dataframe thead th {\n",
       "        text-align: right;\n",
       "    }\n",
       "</style>\n",
       "<table border=\"1\" class=\"dataframe\">\n",
       "  <thead>\n",
       "    <tr style=\"text-align: right;\">\n",
       "      <th></th>\n",
       "      <th>relation</th>\n",
       "      <th>x_type</th>\n",
       "      <th>x_name</th>\n",
       "      <th>y_type</th>\n",
       "      <th>y_name</th>\n",
       "    </tr>\n",
       "  </thead>\n",
       "  <tbody>\n",
       "    <tr>\n",
       "      <th>0</th>\n",
       "      <td>disease_protein</td>\n",
       "      <td>gene_protein</td>\n",
       "      <td>SNRNP48</td>\n",
       "      <td>disease</td>\n",
       "      <td>Minor spliceosome</td>\n",
       "    </tr>\n",
       "    <tr>\n",
       "      <th>1</th>\n",
       "      <td>disease_protein</td>\n",
       "      <td>gene_protein</td>\n",
       "      <td>SNRNP35</td>\n",
       "      <td>disease</td>\n",
       "      <td>Minor spliceosome</td>\n",
       "    </tr>\n",
       "    <tr>\n",
       "      <th>2</th>\n",
       "      <td>disease_protein</td>\n",
       "      <td>gene_protein</td>\n",
       "      <td>SNRNP25</td>\n",
       "      <td>disease</td>\n",
       "      <td>Minor spliceosome</td>\n",
       "    </tr>\n",
       "    <tr>\n",
       "      <th>3</th>\n",
       "      <td>disease_protein</td>\n",
       "      <td>gene_protein</td>\n",
       "      <td>RNPC3</td>\n",
       "      <td>disease</td>\n",
       "      <td>Minor spliceosome</td>\n",
       "    </tr>\n",
       "    <tr>\n",
       "      <th>4</th>\n",
       "      <td>disease_protein</td>\n",
       "      <td>gene_protein</td>\n",
       "      <td>PDCD7</td>\n",
       "      <td>disease</td>\n",
       "      <td>Minor spliceosome</td>\n",
       "    </tr>\n",
       "  </tbody>\n",
       "</table>\n",
       "</div>"
      ],
      "text/plain": [
       "          relation        x_type   x_name   y_type             y_name\n",
       "0  disease_protein  gene_protein  SNRNP48  disease  Minor spliceosome\n",
       "1  disease_protein  gene_protein  SNRNP35  disease  Minor spliceosome\n",
       "2  disease_protein  gene_protein  SNRNP25  disease  Minor spliceosome\n",
       "3  disease_protein  gene_protein    RNPC3  disease  Minor spliceosome\n",
       "4  disease_protein  gene_protein    PDCD7  disease  Minor spliceosome"
      ]
     },
     "execution_count": 47,
     "metadata": {},
     "output_type": "execute_result"
    }
   ],
   "source": [
    "ourKG = ourKG.rename(columns={0: 'relation', 1: 'x_type', 2: 'x_name', 3: 'y_type', 4: 'y_name'})\n",
    "ourKG['x_type']= ourKG['x_type'].apply(lambda x: x.replace(\"/\",\"_\"))\n",
    "ourKG['y_type']= ourKG['y_type'].apply(lambda x: x.replace(\"/\",\"_\"))\n",
    "ourKG['relation']= ourKG['relation'].apply(lambda x: x.replace(\"/\",\"_\"))\n",
    "ourKG.head()"
   ]
  },
  {
   "cell_type": "markdown",
   "metadata": {},
   "source": [
    "Notice the node and edge types"
   ]
  },
  {
   "cell_type": "code",
   "execution_count": 48,
   "metadata": {},
   "outputs": [
    {
     "name": "stdout",
     "output_type": "stream",
     "text": [
      "['disease_protein' 'protein_protein' 'drug_protein' 'drug_drug'\n",
      " 'disease_disease']\n",
      "['gene_protein' 'drug' 'disease']\n",
      "['disease' 'gene_protein' 'drug']\n"
     ]
    }
   ],
   "source": [
    "print(ourKG['relation'].unique())\n",
    "print(ourKG['x_type'].unique())\n",
    "print(ourKG['y_type'].unique())"
   ]
  },
  {
   "cell_type": "markdown",
   "metadata": {},
   "source": [
    "Make graph undirected"
   ]
  },
  {
   "cell_type": "code",
   "execution_count": 67,
   "metadata": {},
   "outputs": [
    {
     "name": "stdout",
     "output_type": "stream",
     "text": [
      "3627261\n"
     ]
    },
    {
     "data": {
      "application/vnd.jupyter.widget-view+json": {
       "model_id": "f82ba4121a88406ab867e4fefc282ccc",
       "version_major": 2,
       "version_minor": 0
      },
      "text/plain": [
       "0it [00:00, ?it/s]"
      ]
     },
     "metadata": {},
     "output_type": "display_data"
    }
   ],
   "source": [
    "from tqdm.notebook import tqdm\n",
    "\n",
    "newKG = deepcopy(ourKG)\n",
    "for row in tqdm(ourKG.iterrows()):\n",
    "    if row[1]['y_name'] in ['MIG','Minor spliceosome']:\n",
    "        newKG.loc[len(newKG)] = [row[1]['relation'], row[1]['y_type'], row[1]['y_name'], row[1]['x_type'], row[1]['x_name']]\n",
    "newKG = newKG.reset_index(drop=True)\n",
    "newKG = newKG.drop_duplicates()"
   ]
  },
  {
   "cell_type": "markdown",
   "metadata": {},
   "source": [
    "Save graph"
   ]
  },
  {
   "cell_type": "code",
   "execution_count": 86,
   "metadata": {},
   "outputs": [],
   "source": [
    "newKG.to_csv(path+'/ourkg.csv', index=False)"
   ]
  },
  {
   "cell_type": "markdown",
   "metadata": {},
   "source": [
    "# Combine with Main Dataset"
   ]
  },
  {
   "cell_type": "markdown",
   "metadata": {},
   "source": [
    "Get main dataset"
   ]
  },
  {
   "cell_type": "code",
   "execution_count": 79,
   "metadata": {},
   "outputs": [
    {
     "name": "stdout",
     "output_type": "stream",
     "text": [
      "Loading data from path: /opt/scratch/labs/wuc/Drug-Repurposing/data/kg.csv\n"
     ]
    }
   ],
   "source": [
    "kg = processFiles(os.path.dirname(os.getcwd()))"
   ]
  },
  {
   "cell_type": "markdown",
   "metadata": {},
   "source": [
    "Get our dataset"
   ]
  },
  {
   "cell_type": "code",
   "execution_count": 87,
   "metadata": {},
   "outputs": [],
   "source": [
    "path = os.path.dirname(os.getcwd()) + '/data'\n",
    "ourKG = pd.read_csv(path + '/ourkg.csv')"
   ]
  },
  {
   "cell_type": "markdown",
   "metadata": {},
   "source": [
    "Drop unimportant columns and nodes"
   ]
  },
  {
   "cell_type": "code",
   "execution_count": 81,
   "metadata": {},
   "outputs": [],
   "source": [
    "kg.drop(columns=['display_relation', 'x_id', 'x_source', 'y_id', 'y_source'], inplace=True)\n",
    "removed_nodes = ['biological_process','molecular_function','cellular_component','pathway','anatomy']\n",
    "mask = np.where(kg['x_type'].isin(removed_nodes) | kg['y_type'].isin(removed_nodes))[0]\n",
    "kg.drop(mask, inplace=True)"
   ]
  },
  {
   "cell_type": "markdown",
   "metadata": {},
   "source": [
    "Get name to idx and apply to our data"
   ]
  },
  {
   "cell_type": "code",
   "execution_count": 88,
   "metadata": {},
   "outputs": [],
   "source": [
    "name_to_idx = dict(zip(kg['x_name'], kg['x_index']))\n",
    "ourKG['x_index'] = ourKG['x_name'].map(name_to_idx)\n",
    "ourKG['y_index'] = ourKG['y_name'].map(name_to_idx)"
   ]
  },
  {
   "cell_type": "markdown",
   "metadata": {},
   "source": [
    "Add new indexes for non overlapping data"
   ]
  },
  {
   "cell_type": "code",
   "execution_count": 90,
   "metadata": {},
   "outputs": [
    {
     "data": {
      "text/html": [
       "<div>\n",
       "<style scoped>\n",
       "    .dataframe tbody tr th:only-of-type {\n",
       "        vertical-align: middle;\n",
       "    }\n",
       "\n",
       "    .dataframe tbody tr th {\n",
       "        vertical-align: top;\n",
       "    }\n",
       "\n",
       "    .dataframe thead th {\n",
       "        text-align: right;\n",
       "    }\n",
       "</style>\n",
       "<table border=\"1\" class=\"dataframe\">\n",
       "  <thead>\n",
       "    <tr style=\"text-align: right;\">\n",
       "      <th></th>\n",
       "      <th>relation</th>\n",
       "      <th>x_type</th>\n",
       "      <th>x_name</th>\n",
       "      <th>y_type</th>\n",
       "      <th>y_name</th>\n",
       "      <th>x_index</th>\n",
       "      <th>y_index</th>\n",
       "    </tr>\n",
       "  </thead>\n",
       "  <tbody>\n",
       "    <tr>\n",
       "      <th>0</th>\n",
       "      <td>disease_protein</td>\n",
       "      <td>gene_protein</td>\n",
       "      <td>SNRNP48</td>\n",
       "      <td>disease</td>\n",
       "      <td>Minor spliceosome</td>\n",
       "      <td>57102</td>\n",
       "      <td>133212</td>\n",
       "    </tr>\n",
       "    <tr>\n",
       "      <th>1</th>\n",
       "      <td>disease_protein</td>\n",
       "      <td>gene_protein</td>\n",
       "      <td>SNRNP35</td>\n",
       "      <td>disease</td>\n",
       "      <td>Minor spliceosome</td>\n",
       "      <td>965</td>\n",
       "      <td>133212</td>\n",
       "    </tr>\n",
       "    <tr>\n",
       "      <th>2</th>\n",
       "      <td>disease_protein</td>\n",
       "      <td>gene_protein</td>\n",
       "      <td>SNRNP25</td>\n",
       "      <td>disease</td>\n",
       "      <td>Minor spliceosome</td>\n",
       "      <td>10101</td>\n",
       "      <td>133212</td>\n",
       "    </tr>\n",
       "    <tr>\n",
       "      <th>3</th>\n",
       "      <td>disease_protein</td>\n",
       "      <td>gene_protein</td>\n",
       "      <td>RNPC3</td>\n",
       "      <td>disease</td>\n",
       "      <td>Minor spliceosome</td>\n",
       "      <td>5436</td>\n",
       "      <td>133212</td>\n",
       "    </tr>\n",
       "    <tr>\n",
       "      <th>4</th>\n",
       "      <td>disease_protein</td>\n",
       "      <td>gene_protein</td>\n",
       "      <td>PDCD7</td>\n",
       "      <td>disease</td>\n",
       "      <td>Minor spliceosome</td>\n",
       "      <td>8992</td>\n",
       "      <td>133212</td>\n",
       "    </tr>\n",
       "    <tr>\n",
       "      <th>...</th>\n",
       "      <td>...</td>\n",
       "      <td>...</td>\n",
       "      <td>...</td>\n",
       "      <td>...</td>\n",
       "      <td>...</td>\n",
       "      <td>...</td>\n",
       "      <td>...</td>\n",
       "    </tr>\n",
       "    <tr>\n",
       "      <th>3627221</th>\n",
       "      <td>disease_protein</td>\n",
       "      <td>disease</td>\n",
       "      <td>MIG</td>\n",
       "      <td>gene_protein</td>\n",
       "      <td>GMFB</td>\n",
       "      <td>133213</td>\n",
       "      <td>9599</td>\n",
       "    </tr>\n",
       "    <tr>\n",
       "      <th>3627222</th>\n",
       "      <td>disease_protein</td>\n",
       "      <td>disease</td>\n",
       "      <td>MIG</td>\n",
       "      <td>gene_protein</td>\n",
       "      <td>TCTN1</td>\n",
       "      <td>133213</td>\n",
       "      <td>6232</td>\n",
       "    </tr>\n",
       "    <tr>\n",
       "      <th>3627223</th>\n",
       "      <td>disease_protein</td>\n",
       "      <td>disease</td>\n",
       "      <td>MIG</td>\n",
       "      <td>gene_protein</td>\n",
       "      <td>DERL3</td>\n",
       "      <td>133213</td>\n",
       "      <td>7244</td>\n",
       "    </tr>\n",
       "    <tr>\n",
       "      <th>3627224</th>\n",
       "      <td>disease_protein</td>\n",
       "      <td>disease</td>\n",
       "      <td>MIG</td>\n",
       "      <td>gene_protein</td>\n",
       "      <td>SPG11</td>\n",
       "      <td>133213</td>\n",
       "      <td>35216</td>\n",
       "    </tr>\n",
       "    <tr>\n",
       "      <th>3627225</th>\n",
       "      <td>disease_protein</td>\n",
       "      <td>disease</td>\n",
       "      <td>MIG</td>\n",
       "      <td>gene_protein</td>\n",
       "      <td>SETD1A</td>\n",
       "      <td>133213</td>\n",
       "      <td>2118</td>\n",
       "    </tr>\n",
       "  </tbody>\n",
       "</table>\n",
       "<p>3627226 rows × 7 columns</p>\n",
       "</div>"
      ],
      "text/plain": [
       "                relation        x_type   x_name        y_type  \\\n",
       "0        disease_protein  gene_protein  SNRNP48       disease   \n",
       "1        disease_protein  gene_protein  SNRNP35       disease   \n",
       "2        disease_protein  gene_protein  SNRNP25       disease   \n",
       "3        disease_protein  gene_protein    RNPC3       disease   \n",
       "4        disease_protein  gene_protein    PDCD7       disease   \n",
       "...                  ...           ...      ...           ...   \n",
       "3627221  disease_protein       disease      MIG  gene_protein   \n",
       "3627222  disease_protein       disease      MIG  gene_protein   \n",
       "3627223  disease_protein       disease      MIG  gene_protein   \n",
       "3627224  disease_protein       disease      MIG  gene_protein   \n",
       "3627225  disease_protein       disease      MIG  gene_protein   \n",
       "\n",
       "                    y_name  x_index  y_index  \n",
       "0        Minor spliceosome    57102   133212  \n",
       "1        Minor spliceosome      965   133212  \n",
       "2        Minor spliceosome    10101   133212  \n",
       "3        Minor spliceosome     5436   133212  \n",
       "4        Minor spliceosome     8992   133212  \n",
       "...                    ...      ...      ...  \n",
       "3627221               GMFB   133213     9599  \n",
       "3627222              TCTN1   133213     6232  \n",
       "3627223              DERL3   133213     7244  \n",
       "3627224              SPG11   133213    35216  \n",
       "3627225             SETD1A   133213     2118  \n",
       "\n",
       "[3627226 rows x 7 columns]"
      ]
     },
     "execution_count": 90,
     "metadata": {},
     "output_type": "execute_result"
    }
   ],
   "source": [
    "max_idx = kg['x_index'].max()\n",
    "for i,name in enumerate(ourKG.loc[ourKG['x_index'].isna()]['x_name'].unique()):\n",
    "    name_to_idx[name] = max_idx + i + 1\n",
    "\n",
    "ourKG['x_index'] = ourKG['x_name'].map(name_to_idx)\n",
    "ourKG['y_index'] = ourKG['y_name'].map(name_to_idx)\n",
    "ourKG = ourKG.astype({'x_index': 'int64', 'y_index': 'int64'})\n",
    "ourKG"
   ]
  },
  {
   "cell_type": "markdown",
   "metadata": {},
   "source": [
    "Combine knowledge graphs"
   ]
  },
  {
   "cell_type": "code",
   "execution_count": 91,
   "metadata": {},
   "outputs": [],
   "source": [
    "totalKG = pd.concat([kg,ourKG])\n",
    "totalKG = totalKG.drop_duplicates()"
   ]
  },
  {
   "cell_type": "markdown",
   "metadata": {},
   "source": [
    "Save total knowledge graph"
   ]
  },
  {
   "cell_type": "code",
   "execution_count": 92,
   "metadata": {},
   "outputs": [],
   "source": [
    "totalKG.to_csv(path+'/totalkg.csv', index=False)"
   ]
  }
 ],
 "metadata": {
  "kernelspec": {
   "display_name": ".venv",
   "language": "python",
   "name": "python3"
  },
  "language_info": {
   "codemirror_mode": {
    "name": "ipython",
    "version": 3
   },
   "file_extension": ".py",
   "mimetype": "text/x-python",
   "name": "python",
   "nbconvert_exporter": "python",
   "pygments_lexer": "ipython3",
   "version": "3.8.10"
  }
 },
 "nbformat": 4,
 "nbformat_minor": 2
}
