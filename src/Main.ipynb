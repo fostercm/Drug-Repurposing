{
 "cells": [
  {
   "cell_type": "markdown",
   "metadata": {},
   "source": [
    "Imports"
   ]
  },
  {
   "cell_type": "code",
   "execution_count": 1,
   "metadata": {},
   "outputs": [],
   "source": [
    "from Dataset import processData\n",
    "import Dataset\n",
    "import os\n",
    "from Model import train, KGLinkPredictor\n",
    "import torch"
   ]
  },
  {
   "cell_type": "markdown",
   "metadata": {},
   "source": [
    "Process Data"
   ]
  },
  {
   "cell_type": "code",
   "execution_count": 2,
   "metadata": {},
   "outputs": [
    {
     "name": "stdout",
     "output_type": "stream",
     "text": [
      "Loading data from path: /opt/scratch/labs/wuc/Drug-Repurposing/data/ourkg_raw.csv\n",
      "Processing node data...\n",
      "Processing edge data...\n",
      "Setting up pretraining data...\n",
      "Setting up finetuning data...\n",
      "Data processing complete.\n"
     ]
    }
   ],
   "source": [
    "data, ptrain_loader, pval_loader,ftrain_loader, fval_loader, ftest_loader, df = processData(256,2048,'ourkg_raw.csv')"
   ]
  },
  {
   "cell_type": "markdown",
   "metadata": {},
   "source": [
    "Declare and Train Model"
   ]
  },
  {
   "cell_type": "code",
   "execution_count": 3,
   "metadata": {},
   "outputs": [
    {
     "name": "stdout",
     "output_type": "stream",
     "text": [
      "Pretraining...\n"
     ]
    },
    {
     "data": {
      "application/vnd.jupyter.widget-view+json": {
       "model_id": "0df64706719d494b9a0f76cce1256b01",
       "version_major": 2,
       "version_minor": 0
      },
      "text/plain": [
       "  0%|          | 0/1 [00:00<?, ?it/s]"
      ]
     },
     "metadata": {},
     "output_type": "display_data"
    },
    {
     "name": "stdout",
     "output_type": "stream",
     "text": [
      "Epoch 1 | Average Training Loss: 0.2953625881002571 Average Validation Loss: 0.21978061337193305\n",
      "Fine-tuning...\n"
     ]
    },
    {
     "data": {
      "application/vnd.jupyter.widget-view+json": {
       "model_id": "fa0756a04fec49e48ac8c1e14ccab362",
       "version_major": 2,
       "version_minor": 0
      },
      "text/plain": [
       "  0%|          | 0/50 [00:00<?, ?it/s]"
      ]
     },
     "metadata": {},
     "output_type": "display_data"
    },
    {
     "name": "stdout",
     "output_type": "stream",
     "text": [
      "Epoch 1 | Average Training Loss: 0.41936122743706955 Average Validation Loss: 0.3047602077325185\n",
      "Epoch 2 | Average Training Loss: 0.27013272203897176 Average Validation Loss: 0.2677250454823176\n",
      "Epoch 3 | Average Training Loss: 0.2554880960991508 Average Validation Loss: 0.2582600216070811\n",
      "Epoch 4 | Average Training Loss: 0.2506125647770731 Average Validation Loss: 0.23309420545895895\n",
      "Epoch 5 | Average Training Loss: 0.2403446028107091 Average Validation Loss: 0.23348972698052725\n",
      "Epoch 6 | Average Training Loss: 0.23621223474803724 Average Validation Loss: 0.25079866250356037\n",
      "Epoch 7 | Average Training Loss: 0.23685398227290103 Average Validation Loss: 0.23218186696370444\n",
      "Epoch 8 | Average Training Loss: 0.235536285921147 Average Validation Loss: 0.23689731458822885\n",
      "Epoch 9 | Average Training Loss: 0.23128430388475718 Average Validation Loss: 0.23408070703347525\n",
      "Epoch 10 | Average Training Loss: 0.2270126672167527 Average Validation Loss: 0.23677703738212585\n",
      "Epoch 11 | Average Training Loss: 0.22497331860818362 Average Validation Loss: 0.2291403611501058\n",
      "Epoch 12 | Average Training Loss: 0.22297184090865285 Average Validation Loss: 0.22765838106473288\n",
      "Epoch 13 | Average Training Loss: 0.22752188224541514 Average Validation Loss: 0.22495823601881662\n",
      "Epoch 14 | Average Training Loss: 0.218101074036799 Average Validation Loss: 0.2194396803776423\n",
      "Epoch 15 | Average Training Loss: 0.22065380058790507 Average Validation Loss: 0.21956981221834818\n",
      "Epoch 16 | Average Training Loss: 0.21960913821270592 Average Validation Loss: 0.2270741363366445\n",
      "Epoch 17 | Average Training Loss: 0.2198954601036875 Average Validation Loss: 0.2266821563243866\n",
      "Epoch 18 | Average Training Loss: 0.21821976256997963 Average Validation Loss: 0.2199169546365738\n",
      "Epoch 19 | Average Training Loss: 0.2150435392793856 Average Validation Loss: 0.22507963081200918\n",
      "Epoch 20 | Average Training Loss: 0.21487072031748922 Average Validation Loss: 0.20887185136477152\n",
      "Epoch 21 | Average Training Loss: 0.21044024746668966 Average Validation Loss: 0.20558438698450723\n",
      "Epoch 22 | Average Training Loss: 0.21123354136943817 Average Validation Loss: 0.21872967978318533\n",
      "Epoch 23 | Average Training Loss: 0.21176672138665853 Average Validation Loss: 0.21188602348168692\n",
      "Epoch 24 | Average Training Loss: 0.20926706414473684 Average Validation Loss: 0.21689626574516296\n",
      "Epoch 25 | Average Training Loss: 0.21063399785443357 Average Validation Loss: 0.21281794210275015\n",
      "Epoch 26 | Average Training Loss: 0.20598226550378299 Average Validation Loss: 0.2219604899485906\n",
      "Epoch 27 | Average Training Loss: 0.2107950911710137 Average Validation Loss: 0.20986206829547882\n",
      "Epoch 28 | Average Training Loss: 0.2101703976330004 Average Validation Loss: 0.19784973561763763\n",
      "Epoch 29 | Average Training Loss: 0.21100381487294248 Average Validation Loss: 0.2208308974901835\n",
      "Epoch 30 | Average Training Loss: 0.20438662798781143 Average Validation Loss: 0.22005421419938406\n",
      "Epoch 31 | Average Training Loss: 0.20973009733777298 Average Validation Loss: 0.203129972020785\n",
      "Epoch 32 | Average Training Loss: 0.20046577877119967 Average Validation Loss: 0.19345461825529733\n",
      "Epoch 33 | Average Training Loss: 0.2095451621632827 Average Validation Loss: 0.2082686424255371\n",
      "Epoch 34 | Average Training Loss: 0.20490448647423795 Average Validation Loss: 0.21652472019195557\n",
      "Epoch 35 | Average Training Loss: 0.2011927428998445 Average Validation Loss: 0.218253493309021\n",
      "Epoch 36 | Average Training Loss: 0.20182894640847257 Average Validation Loss: 0.20122182369232178\n",
      "Epoch 37 | Average Training Loss: 0.20294132907139628 Average Validation Loss: 0.20945469041665396\n",
      "Epoch 38 | Average Training Loss: 0.20312488471206866 Average Validation Loss: 0.20879147946834564\n",
      "Epoch 39 | Average Training Loss: 0.20122460942519338 Average Validation Loss: 0.20759819944699606\n",
      "Epoch 40 | Average Training Loss: 0.20162633924107803 Average Validation Loss: 0.20285763343175253\n",
      "Epoch 41 | Average Training Loss: 0.1952015569335536 Average Validation Loss: 0.19962991774082184\n",
      "Epoch 42 | Average Training Loss: 0.2015131696274406 Average Validation Loss: 0.19905970493952432\n",
      "Epoch 43 | Average Training Loss: 0.19756621592923215 Average Validation Loss: 0.1930476874113083\n",
      "Epoch 44 | Average Training Loss: 0.19375379618845487 Average Validation Loss: 0.188481738169988\n",
      "Epoch 45 | Average Training Loss: 0.2006162350115023 Average Validation Loss: 0.19276855885982513\n",
      "Epoch 46 | Average Training Loss: 0.19855046193850667 Average Validation Loss: 0.19720517098903656\n",
      "Epoch 47 | Average Training Loss: 0.1980106250235909 Average Validation Loss: 0.2101426968971888\n",
      "Epoch 48 | Average Training Loss: 0.19788555173497452 Average Validation Loss: 0.19793532292048135\n",
      "Epoch 49 | Average Training Loss: 0.19352366579206368 Average Validation Loss: 0.19661055008570352\n",
      "Epoch 50 | Average Training Loss: 0.19648898588983635 Average Validation Loss: 0.19129704932371774\n"
     ]
    }
   ],
   "source": [
    "device = 'cuda' if torch.cuda.is_available() else 'cpu'\n",
    "model = KGLinkPredictor(256,64,data).to(device)\n",
    "optimizer = torch.optim.Adam(model.parameters(), lr=0.001)\n",
    "data = data.to(device)\n",
    "\n",
    "print('Pretraining...')\n",
    "train(ptrain_loader,pval_loader, model, optimizer, device, 1) # Takes about 30 mins\n",
    "\n",
    "model.Decoder.reset_parameters()\n",
    "\n",
    "print('Fine-tuning...')\n",
    "train(ftrain_loader,fval_loader, model, optimizer, device, 50)"
   ]
  },
  {
   "cell_type": "markdown",
   "metadata": {},
   "source": [
    "Save Model"
   ]
  },
  {
   "cell_type": "code",
   "execution_count": 6,
   "metadata": {},
   "outputs": [],
   "source": [
    "torch.save(model.state_dict(), r'models/2L_GAT_SILU_E50.pt')"
   ]
  },
  {
   "cell_type": "markdown",
   "metadata": {},
   "source": [
    "Load Model"
   ]
  },
  {
   "cell_type": "code",
   "execution_count": 7,
   "metadata": {},
   "outputs": [
    {
     "data": {
      "text/plain": [
       "<All keys matched successfully>"
      ]
     },
     "execution_count": 7,
     "metadata": {},
     "output_type": "execute_result"
    }
   ],
   "source": [
    "model = KGLinkPredictor(256,64,data).to(device)\n",
    "model.load_state_dict(torch.load(r'models/2L_GAT_SILU_E50.pt'))"
   ]
  },
  {
   "cell_type": "markdown",
   "metadata": {},
   "source": [
    "Evaluation"
   ]
  },
  {
   "cell_type": "code",
   "execution_count": 63,
   "metadata": {},
   "outputs": [],
   "source": [
    "import numpy as np\n",
    "y = np.array([])\n",
    "y_hat = np.array([])\n",
    "\n",
    "for batch in fval_loader:\n",
    "    \n",
    "    # Send data to GPU\n",
    "    head_indices,relations,tail_indices = batch[:,0], batch[:,1], batch[:,2]\n",
    "    head_indices,relations,tail_indices = head_indices.to(device),relations.to(device),tail_indices.to(device)\n",
    "    \n",
    "    # Forward pass through model to update node embeddings\n",
    "    model(head_indices,relations,tail_indices)\n",
    "    \n",
    "    y = np.append(y,len(batch)*[1])\n",
    "    y_hat = np.append(y_hat,torch.sigmoid(model.Decoder(head_indices,relations,tail_indices)).detach().cpu().numpy().flatten())\n",
    "    y = np.append(y,len(batch)*[0])\n",
    "    y_hat = np.append(y_hat,torch.sigmoid(model.Decoder(*model.Decoder.random_sample(head_indices, relations, tail_indices), loss_tag=False)).detach().cpu().numpy().flatten())"
   ]
  },
  {
   "cell_type": "code",
   "execution_count": 65,
   "metadata": {},
   "outputs": [
    {
     "name": "stdout",
     "output_type": "stream",
     "text": [
      "0.9028349176345972\n"
     ]
    },
    {
     "data": {
      "image/png": "[encoded data removed]",
      "text/plain": [
       "<Figure size 640x480 with 1 Axes>"
      ]
     },
     "metadata": {},
     "output_type": "display_data"
    }
   ],
   "source": [
    "import matplotlib.pyplot as plt\n",
    "from sklearn.metrics import roc_auc_score, roc_curve\n",
    "\n",
    "def plot_roc_curve(true_y, y_prob):\n",
    "    \"\"\"\n",
    "    plots the roc curve based of the probabilities\n",
    "    \"\"\"\n",
    "\n",
    "    fpr, tpr, thresholds = roc_curve(true_y, y_prob)\n",
    "    plt.plot(fpr, tpr)\n",
    "    plt.xlabel('False Positive Rate')\n",
    "    plt.ylabel('True Positive Rate')\n",
    "\n",
    "plot_roc_curve(y, y_hat)\n",
    "print(roc_auc_score(y, y_hat))"
   ]
  },
  {
   "cell_type": "code",
   "execution_count": 78,
   "metadata": {},
   "outputs": [
    {
     "name": "stdout",
     "output_type": "stream",
     "text": [
      "-0.45 | 0.6861164052191762\n",
      "-0.44 | 0.6912340299830145\n",
      "-0.43 | 0.6944650541623386\n",
      "-0.42 | 0.696999031945789\n",
      "-0.41 | 0.6981948381321795\n",
      "-0.4 | 0.6991857772465826\n",
      "-0.39 | 0.7002843034565315\n",
      "-0.38 | 0.701333732953694\n",
      "-0.37 | 0.7033891936574735\n",
      "-0.36 | 0.7045009784735813\n",
      "-0.35 | 0.7064684127103933\n",
      "-0.34 | 0.7087150753388355\n",
      "-0.33 | 0.7102208058274527\n",
      "-0.32 | 0.7116788321167884\n",
      "-0.31 | 0.7129798903107861\n",
      "-0.3 | 0.7141767129558981\n",
      "-0.29 | 0.7157604955264968\n",
      "-0.28 | 0.7167470709855273\n",
      "-0.27 | 0.7172963445474749\n",
      "-0.26 | 0.717736369910283\n",
      "-0.25 | 0.7184525637089346\n",
      "-0.24 | 0.7190596911730814\n",
      "-0.23 | 0.7196678456097186\n",
      "-0.22 | 0.7204433497536946\n",
      "-0.21 | 0.7209983053458635\n",
      "-0.2 | 0.7219436945622831\n",
      "-0.19 | 0.7228915662650602\n",
      "-0.18 | 0.7237299930410578\n",
      "-0.17 | 0.72513170127053\n",
      "-0.16 | 0.7263133390238224\n",
      "-0.15 | 0.7271597265382225\n",
      "-0.14 | 0.7278382581648521\n",
      "-0.13 | 0.7282346533883141\n",
      "-0.12 | 0.7286314806165344\n",
      "-0.11 | 0.7290855273407073\n",
      "-0.1 | 0.7295970067815105\n",
      "-0.09 | 0.7303370786516854\n",
      "-0.08 | 0.7310786534406\n",
      "-0.07 | 0.7325663301244424\n",
      "-0.06 | 0.7332549941245594\n",
      "-0.05 | 0.7342904212755942\n",
      "-0.04 | 0.7355021216407356\n",
      "-0.03 | 0.7369498464687819\n",
      "-0.02 | 0.7379375591296121\n",
      "-0.01 | 0.7392197125256674\n",
      "0.0 | 0.7401549897200695\n",
      "0.01 | 0.7415623514498494\n",
      "0.02 | 0.7443931923015747\n",
      "0.03 | 0.7485604606525912\n",
      "0.04 | 0.7519280205655527\n",
      "0.05 | 0.7553260167850225\n",
      "0.06 | 0.7573428270895703\n",
      "0.07 | 0.7581402883525028\n",
      "0.08 | 0.758631869022532\n",
      "0.09 | 0.7591856598264255\n",
      "0.1 | 0.7593704364757423\n",
      "0.11 | 0.7595779220779221\n",
      "0.12 | 0.759701250202955\n",
      "0.13 | 0.7603184920376991\n",
      "0.14 | 0.7604031209362809\n",
      "0.15 | 0.7610835434800294\n",
      "0.16 | 0.7614783458156952\n",
      "0.17 | 0.7618970013037808\n",
      "0.18 | 0.7622309197651663\n",
      "0.19 | 0.7627284595300261\n",
      "0.2 | 0.763312642927148\n",
      "0.21 | 0.7641239473469054\n",
      "0.22 | 0.7644844517184942\n",
      "0.23 | 0.7655737704918032\n",
      "0.24 | 0.7661634394486381\n",
      "0.25 | 0.7666009204470743\n",
      "0.26 | 0.7673442515019341\n",
      "0.27 | 0.7680765108417842\n",
      "0.28 | 0.7689259473293157\n",
      "0.29 | 0.7692561983471075\n",
      "0.3 | 0.7701349226057446\n",
      "0.31 | 0.7711182956146896\n",
      "0.32 | 0.770814310616751\n",
      "0.33 | 0.7720845117284977\n",
      "0.34 | 0.7729508880180106\n",
      "0.35 | 0.7736432812108035\n",
      "0.36 | 0.7752497691209805\n",
      "0.37 | 0.7780123279574432\n",
      "0.38 | 0.7812791981652933\n",
      "0.39 | 0.7846088071825567\n",
      "0.4 | 0.7876647428719098\n",
      "0.41 | 0.7930222416048844\n",
      "0.42 | 0.8045240003562205\n",
      "0.43 | 0.8230316409124356\n",
      "0.44 | 0.8484441029581252\n",
      "0.45 | 0.8578528827037772\n",
      "0.46 | 0.8582954075299959\n",
      "0.47 | 0.8335867912231153\n",
      "0.48 | 0.7936140675613143\n",
      "0.49 | 0.6470905172413793\n"
     ]
    }
   ],
   "source": [
    "from sklearn.metrics import f1_score\n",
    "for thresh in range(-45,50,1):\n",
    "    thresh = thresh/100\n",
    "    y_hat_mod = np.round(y_hat-thresh)\n",
    "    print(thresh,\"|\",f1_score(y, y_hat_mod))"
   ]
  }
 ],
 "metadata": {
  "kernelspec": {
   "display_name": ".venv",
   "language": "python",
   "name": "python3"
  },
  "language_info": {
   "codemirror_mode": {
    "name": "ipython",
    "version": 3
   },
   "file_extension": ".py",
   "mimetype": "text/x-python",
   "name": "python",
   "nbconvert_exporter": "python",
   "pygments_lexer": "ipython3",
   "version": "3.8.10"
  }
 },
 "nbformat": 4,
 "nbformat_minor": 2
}
