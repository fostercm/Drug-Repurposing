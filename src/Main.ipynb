{
 "cells": [
  {
   "cell_type": "markdown",
   "metadata": {},
   "source": [
    "Imports"
   ]
  },
  {
   "cell_type": "code",
   "execution_count": 10,
   "metadata": {},
   "outputs": [],
   "source": [
    "from Dataset import processData\n",
    "import os\n",
    "from Model import train, quick_train, KGLinkPredictor\n",
    "import torch\n",
    "import matplotlib.pyplot as plt\n",
    "from sklearn.metrics import roc_auc_score, roc_curve\n",
    "import numpy as np\n",
    "from sklearn.metrics import f1_score"
   ]
  },
  {
   "cell_type": "markdown",
   "metadata": {},
   "source": [
    "Process Data and Save for Later (ONLY RUN ONCE)"
   ]
  },
  {
   "cell_type": "code",
   "execution_count": 2,
   "metadata": {},
   "outputs": [],
   "source": [
    "embedding_dim = 256\n",
    "batch_size = 2048\n",
    "\n",
    "# If no data has been processed yet, process the data and save it\n",
    "if not os.path.exists(f'processed_data/E{embedding_dim}'):\n",
    "    \n",
    "    data, ptrain_loader, pval_loader,ftrain_loader, fval_loader, ftest_loader, kg = processData(embedding_dim,batch_size,'ourkg_raw.csv')\n",
    "    path = f'processed_data/E{embedding_dim}'\n",
    "    os.mkdir(path)\n",
    "    \n",
    "    torch.save(data, os.path.join(path, 'data_obj.pt'))\n",
    "    torch.save(ptrain_loader, os.path.join(path, 'ptrain_loader.pt'))\n",
    "    torch.save(pval_loader, os.path.join(path, 'pval_loader.pt'))\n",
    "    torch.save(ftrain_loader, os.path.join(path, 'ftrain_loader.pt'))\n",
    "    torch.save(fval_loader, os.path.join(path, 'fval_loader.pt'))\n",
    "    torch.save(ftest_loader, os.path.join(path, 'ftest_loader.pt'))\n",
    "    torch.save(kg, os.path.join(path, 'kg.pt'))\n",
    "\n",
    "# Use previously processed data\n",
    "else:\n",
    "    data = torch.load(f'processed_data/E{embedding_dim}/data_obj.pt')\n",
    "    ptrain_loader = torch.load(f'processed_data/E{embedding_dim}/ptrain_loader.pt')\n",
    "    pval_loader = torch.load(f'processed_data/E{embedding_dim}/pval_loader.pt')\n",
    "    ftrain_loader = torch.load(f'processed_data/E{embedding_dim}/ftrain_loader.pt')\n",
    "    fval_loader = torch.load(f'processed_data/E{embedding_dim}/fval_loader.pt')\n",
    "    ftest_loader = torch.load(f'processed_data/E{embedding_dim}/ftest_loader.pt')\n",
    "    kg = torch.load(f'processed_data/E{embedding_dim}/kg.pt')"
   ]
  },
  {
   "cell_type": "markdown",
   "metadata": {},
   "source": [
    "Declare and Train Model (ONLY IF MODEL HAS NOT BEEN TRAINED AND SAVED YET)"
   ]
  },
  {
   "cell_type": "code",
   "execution_count": 14,
   "metadata": {},
   "outputs": [
    {
     "name": "stdout",
     "output_type": "stream",
     "text": [
      "Pretraining...\n"
     ]
    },
    {
     "data": {
      "application/vnd.jupyter.widget-view+json": {
       "model_id": "d0f30426a01e4da3b24153bc2f5df3fe",
       "version_major": 2,
       "version_minor": 0
      },
      "text/plain": [
       "  0%|          | 0/1 [00:00<?, ?it/s]"
      ]
     },
     "metadata": {},
     "output_type": "display_data"
    },
    {
     "name": "stdout",
     "output_type": "stream",
     "text": [
      "Epoch 1 | Average Training Loss: 0.298340284949342\n",
      "Fine-tuning...\n"
     ]
    },
    {
     "data": {
      "application/vnd.jupyter.widget-view+json": {
       "model_id": "bbaeddf7062e4da8884b23cebdb24e56",
       "version_major": 2,
       "version_minor": 0
      },
      "text/plain": [
       "  0%|          | 0/50 [00:00<?, ?it/s]"
      ]
     },
     "metadata": {},
     "output_type": "display_data"
    },
    {
     "name": "stdout",
     "output_type": "stream",
     "text": [
      "Epoch 1 | Average Training Loss: 0.9066959211700841\n",
      "Epoch 2 | Average Training Loss: 0.39210321558149236\n",
      "Epoch 3 | Average Training Loss: 0.31652432993838664\n",
      "Epoch 4 | Average Training Loss: 0.2778779472175397\n",
      "Epoch 5 | Average Training Loss: 0.26428245086418956\n",
      "Epoch 6 | Average Training Loss: 0.24668631192884946\n",
      "Epoch 7 | Average Training Loss: 0.24155394811379283\n",
      "Epoch 8 | Average Training Loss: 0.2246735182247664\n",
      "Epoch 9 | Average Training Loss: 0.23197173915411295\n",
      "Epoch 10 | Average Training Loss: 0.22652660310268402\n",
      "Epoch 11 | Average Training Loss: 0.22355310540450246\n",
      "Epoch 12 | Average Training Loss: 0.22351263620351491\n",
      "Epoch 13 | Average Training Loss: 0.2237735743585386\n",
      "Epoch 14 | Average Training Loss: 0.22338281885573738\n",
      "Epoch 15 | Average Training Loss: 0.22262811347057945\n",
      "Epoch 16 | Average Training Loss: 0.21975796003090708\n",
      "Epoch 17 | Average Training Loss: 0.21947405840221204\n",
      "Epoch 18 | Average Training Loss: 0.21587766942225003\n",
      "Epoch 19 | Average Training Loss: 0.2152519680951771\n",
      "Epoch 20 | Average Training Loss: 0.21291198542243556\n",
      "Epoch 21 | Average Training Loss: 0.20788230550916573\n",
      "Epoch 22 | Average Training Loss: 0.2132429041360554\n",
      "Epoch 23 | Average Training Loss: 0.20661381200740211\n",
      "Epoch 24 | Average Training Loss: 0.21306657555856204\n",
      "Epoch 25 | Average Training Loss: 0.21076511709313644\n",
      "Epoch 26 | Average Training Loss: 0.2046664419927095\n",
      "Epoch 27 | Average Training Loss: 0.20364043273423849\n",
      "Epoch 28 | Average Training Loss: 0.2052068945608641\n",
      "Epoch 29 | Average Training Loss: 0.20407485883486898\n",
      "Epoch 30 | Average Training Loss: 0.20777980669548637\n",
      "Epoch 31 | Average Training Loss: 0.20182594421662783\n",
      "Epoch 32 | Average Training Loss: 0.2024722546339035\n",
      "Epoch 33 | Average Training Loss: 0.1982288297853972\n",
      "Epoch 34 | Average Training Loss: 0.20140983713300606\n",
      "Epoch 35 | Average Training Loss: 0.19597991438288437\n",
      "Epoch 36 | Average Training Loss: 0.19937406323458018\n",
      "Epoch 37 | Average Training Loss: 0.1947674147392574\n",
      "Epoch 38 | Average Training Loss: 0.19629783457831332\n",
      "Epoch 39 | Average Training Loss: 0.19660929943385877\n",
      "Epoch 40 | Average Training Loss: 0.1956270384161096\n",
      "Epoch 41 | Average Training Loss: 0.19249316657844343\n",
      "Epoch 42 | Average Training Loss: 0.1953408945547907\n",
      "Epoch 43 | Average Training Loss: 0.1937208763862911\n",
      "Epoch 44 | Average Training Loss: 0.19335833427153135\n",
      "Epoch 45 | Average Training Loss: 0.19483149522229246\n",
      "Epoch 46 | Average Training Loss: 0.19078001536821065\n",
      "Epoch 47 | Average Training Loss: 0.19246547237822884\n",
      "Epoch 48 | Average Training Loss: 0.19111634320334384\n",
      "Epoch 49 | Average Training Loss: 0.19217578988326223\n",
      "Epoch 50 | Average Training Loss: 0.18899008317997582\n"
     ]
    }
   ],
   "source": [
    "device = 'cuda:2' if torch.cuda.is_available() else 'cpu'\n",
    "hidden_dim = 64\n",
    "model = KGLinkPredictor(embedding_dim,hidden_dim,data).to(device)\n",
    "optimizer = torch.optim.Adam(model.parameters(), lr=0.001)\n",
    "data = data.to(device)\n",
    "\n",
    "print('Pretraining...')\n",
    "quick_train(ptrain_loader, model, optimizer, device, 1) # Takes about 10 mins\n",
    "\n",
    "model.Decoder.reset_parameters()\n",
    "\n",
    "print('Fine-tuning...')\n",
    "quick_train(ftrain_loader, model, optimizer, device, 50)"
   ]
  },
  {
   "cell_type": "markdown",
   "metadata": {},
   "source": [
    "Save Model"
   ]
  },
  {
   "cell_type": "code",
   "execution_count": 15,
   "metadata": {},
   "outputs": [],
   "source": [
    "torch.save(model.state_dict(), 'models/TestModel.pt')"
   ]
  },
  {
   "cell_type": "markdown",
   "metadata": {},
   "source": [
    "Load Model"
   ]
  },
  {
   "cell_type": "code",
   "execution_count": 69,
   "metadata": {},
   "outputs": [
    {
     "data": {
      "text/plain": [
       "<All keys matched successfully>"
      ]
     },
     "execution_count": 69,
     "metadata": {},
     "output_type": "execute_result"
    }
   ],
   "source": [
    "# device = 'cuda:2' if torch.cuda.is_available() else 'cpu'\n",
    "# data = torch.load(r'processed_data/E256/data_obj.pt').to(device)\n",
    "model = KGLinkPredictor(256,64,data).to(device)\n",
    "model.load_state_dict(torch.load(r'models/TestModel.pt'))"
   ]
  },
  {
   "cell_type": "markdown",
   "metadata": {},
   "source": [
    "Evaluate"
   ]
  },
  {
   "cell_type": "code",
   "execution_count": 72,
   "metadata": {},
   "outputs": [],
   "source": [
    "indication_true = np.array([])\n",
    "indication_pred = np.array([])\n",
    "\n",
    "contraindication_true = np.array([])\n",
    "contraindication_pred = np.array([])\n",
    "\n",
    "for batch in fval_loader:\n",
    "    \n",
    "    contraindication = batch[batch[:,1] == 4]\n",
    "    indication = batch[batch[:,1] == 5]\n",
    "    \n",
    "    contra_head,contra_rel,contra_tail = contraindication[:,0],contraindication[:,1],contraindication[:,2]\n",
    "    contra_head,contra_rel,contra_tail = contra_head.to(device),contra_rel.to(device),contra_tail.to(device)\n",
    "    \n",
    "    indi_head,indi_rel,indi_tail = indication[:,0],indication[:,1],indication[:,2]\n",
    "    indi_head,indi_rel,indi_tail = indi_head.to(device),indi_rel.to(device),indi_tail.to(device)\n",
    "    \n",
    "    contraindication_true = np.append(contraindication_true,len(contraindication)*[1])\n",
    "    contraindication_pred = np.append(contraindication_pred,torch.sigmoid(model.Decoder(contra_head,contra_rel,contra_tail)).detach().cpu().numpy().flatten())\n",
    "    contraindication_true = np.append(contraindication_true,len(contraindication)*[0])\n",
    "    contraindication_pred = np.append(contraindication_pred,torch.sigmoid(model.Decoder(*model.Decoder.random_sample(contra_head, contra_rel, contra_tail), loss_tag=False)).detach().cpu().numpy().flatten())\n",
    "    \n",
    "    indication_true = np.append(indication_true,len(indication)*[1])\n",
    "    indication_pred = np.append(indication_pred,torch.sigmoid(model.Decoder(indi_head,indi_rel,indi_tail)).detach().cpu().numpy().flatten())\n",
    "    indication_true = np.append(indication_true,len(indication)*[0])\n",
    "    indication_pred = np.append(indication_pred,torch.sigmoid(model.Decoder(*model.Decoder.random_sample(indi_head, indi_rel, indi_tail), loss_tag=False)).detach().cpu().numpy().flatten())"
   ]
  },
  {
   "cell_type": "code",
   "execution_count": 73,
   "metadata": {},
   "outputs": [
    {
     "name": "stdout",
     "output_type": "stream",
     "text": [
      "Indication AUC: 0.9032561570493753\n",
      "Contraindication AUC: 0.9267780248673217\n"
     ]
    },
    {
     "data": {
      "image/png": "[encoded data removed]",
      "text/plain": [
       "<Figure size 640x480 with 1 Axes>"
      ]
     },
     "metadata": {},
     "output_type": "display_data"
    }
   ],
   "source": [
    "def plot_roc_curve(indication_true, indication_pred, contraindication_true, contraindication_pred):\n",
    "    \"\"\"\n",
    "    plots the roc curve based of the probabilities\n",
    "    \"\"\"\n",
    "\n",
    "    i_fpr, i_tpr, thresholds = roc_curve(indication_true, indication_pred)\n",
    "    c_fpr, c_tpr, thresholds = roc_curve(contraindication_true, contraindication_pred)\n",
    "    plt.plot(i_fpr, i_tpr)\n",
    "    plt.plot(c_fpr, c_tpr)\n",
    "    plt.xlabel('False Positive Rate')\n",
    "    plt.ylabel('True Positive Rate')\n",
    "    plt.title('ROC Curve')\n",
    "    plt.legend(['Indication','Contraindication'])\n",
    "\n",
    "plot_roc_curve(indication_true, indication_pred, contraindication_true, contraindication_pred)\n",
    "\n",
    "print('Indication AUC:',roc_auc_score(indication_true, indication_pred))\n",
    "print('Contraindication AUC:',roc_auc_score(contraindication_true, contraindication_pred))"
   ]
  },
  {
   "cell_type": "code",
   "execution_count": 25,
   "metadata": {},
   "outputs": [],
   "source": [
    "contraindication_thresholds = []\n",
    "indication_thresholds = []\n",
    "for thresh in range(-45,50,1):\n",
    "    thresh = thresh/100\n",
    "    contraindication_pred_mod = np.round(contraindication_pred-thresh)\n",
    "    indication_pred_mod = np.round(indication_pred-thresh)\n",
    "    \n",
    "    contraindication_thresholds.append(f1_score(contraindication_true, contraindication_pred_mod))\n",
    "    indication_thresholds.append(f1_score(indication_true, indication_pred_mod))\n",
    "\n",
    "contraindication_threshold = round((contraindication_thresholds.index(max(contraindication_thresholds)) - 45) / 100,2)\n",
    "indication_threshold = round((indication_thresholds.index(max(indication_thresholds)) - 45) / 100,2)"
   ]
  },
  {
   "cell_type": "markdown",
   "metadata": {},
   "source": [
    "Apply to our diseases"
   ]
  },
  {
   "cell_type": "code",
   "execution_count": 39,
   "metadata": {},
   "outputs": [],
   "source": [
    "our_diseases = ['HeV_Astro','HeV_Neuron','MIGs','minor spliceosome','NiV_M_Astro','NiV_B_Astro']"
   ]
  },
  {
   "cell_type": "code",
   "execution_count": 44,
   "metadata": {},
   "outputs": [],
   "source": [
    "indication_predictions  = np.zeros((len(our_diseases),data['drug'].num_nodes))\n",
    "contraindication_predictions  = np.zeros((len(our_diseases),data['drug'].num_nodes))\n",
    "\n",
    "for i,disease in enumerate(our_diseases):\n",
    "    x_index = kg[(kg['x_type']=='disease') & (kg['x_name']==disease)]['x_index'].unique()[0]\n",
    "    \n",
    "    contraindication = torch.ones(data['drug'].num_nodes,dtype=torch.long)*4\n",
    "    indication = torch.ones(data['drug'].num_nodes,dtype=torch.long)*5\n",
    "    drug = torch.arange(0,data['drug'].num_nodes,dtype=torch.long)\n",
    "    query_disease = torch.ones(data['drug'].num_nodes,dtype=torch.long)*x_index\n",
    "    \n",
    "    indication_predictions[i] = torch.sigmoid(model.Decoder(query_disease,indication,drug)).detach().cpu().numpy().flatten()\n",
    "    contraindication_predictions[i] = torch.sigmoid(model.Decoder(query_disease,contraindication,drug)).detach().cpu().numpy().flatten()"
   ]
  },
  {
   "cell_type": "code",
   "execution_count": 79,
   "metadata": {},
   "outputs": [
    {
     "name": "stdout",
     "output_type": "stream",
     "text": [
      "HeV_Astro\n",
      "Max Indication: 0.2565660774707794 | Threshold: 0.85\n",
      "Max Contraindication: 0.3295117914676666 | Threshold: 0.92\n",
      "\n",
      "HeV_Neuron\n",
      "Max Indication: 0.2526415288448334 | Threshold: 0.85\n",
      "Max Contraindication: 0.327617347240448 | Threshold: 0.92\n",
      "\n",
      "MIGs\n",
      "Max Indication: 0.24558687210083008 | Threshold: 0.85\n",
      "Max Contraindication: 0.3272545635700226 | Threshold: 0.92\n",
      "\n",
      "minor spliceosome\n",
      "Max Indication: 0.23333744704723358 | Threshold: 0.85\n",
      "Max Contraindication: 0.3059571087360382 | Threshold: 0.92\n",
      "\n",
      "NiV_M_Astro\n",
      "Max Indication: 0.23389117419719696 | Threshold: 0.85\n",
      "Max Contraindication: 0.31774765253067017 | Threshold: 0.92\n",
      "\n",
      "NiV_B_Astro\n",
      "Max Indication: 0.24067185819149017 | Threshold: 0.85\n",
      "Max Contraindication: 0.3210105001926422 | Threshold: 0.92\n",
      "\n"
     ]
    }
   ],
   "source": [
    "for i,disease in enumerate(our_diseases):\n",
    "    print(disease)\n",
    "    print(f'Max Indication: {max(indication_predictions[i])} | Threshold: {0.5 + indication_threshold}')\n",
    "    print(f'Max Contraindication: {max(contraindication_predictions[i])} | Threshold: {round(0.5 + contraindication_threshold,2)}\\n')"
   ]
  }
 ],
 "metadata": {
  "kernelspec": {
   "display_name": ".venv",
   "language": "python",
   "name": "python3"
  },
  "language_info": {
   "codemirror_mode": {
    "name": "ipython",
    "version": 3
   },
   "file_extension": ".py",
   "mimetype": "text/x-python",
   "name": "python",
   "nbconvert_exporter": "python",
   "pygments_lexer": "ipython3",
   "version": "3.8.10"
  }
 },
 "nbformat": 4,
 "nbformat_minor": 2
}
